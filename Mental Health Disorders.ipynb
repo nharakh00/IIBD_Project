{
 "cells": [
  {
   "cell_type": "markdown",
   "id": "2e6ef43b",
   "metadata": {},
   "source": [
    "Importing Pandas and Creating Dataframe"
   ]
  },
  {
   "cell_type": "code",
   "execution_count": 60,
   "id": "2361262c",
   "metadata": {},
   "outputs": [],
   "source": [
    "import pandas as pd"
   ]
  },
  {
   "cell_type": "code",
   "execution_count": 61,
   "id": "ed8450ad",
   "metadata": {},
   "outputs": [],
   "source": [
    "import matplotlib.pyplot as plt\n"
   ]
  },
  {
   "cell_type": "code",
   "execution_count": 62,
   "id": "84b8dacd",
   "metadata": {},
   "outputs": [],
   "source": [
    "df = pd.read_csv(\"mental_health.csv\", low_memory=False)"
   ]
  },
  {
   "cell_type": "markdown",
   "id": "767b1178",
   "metadata": {},
   "source": [
    "Initial inspection of data set"
   ]
  },
  {
   "cell_type": "code",
   "execution_count": 84,
   "id": "3b1feaee",
   "metadata": {},
   "outputs": [
    {
     "data": {
      "text/html": [
       "<div>\n",
       "<style scoped>\n",
       "    .dataframe tbody tr th:only-of-type {\n",
       "        vertical-align: middle;\n",
       "    }\n",
       "\n",
       "    .dataframe tbody tr th {\n",
       "        vertical-align: top;\n",
       "    }\n",
       "\n",
       "    .dataframe thead th {\n",
       "        text-align: right;\n",
       "    }\n",
       "</style>\n",
       "<table border=\"1\" class=\"dataframe\">\n",
       "  <thead>\n",
       "    <tr style=\"text-align: right;\">\n",
       "      <th></th>\n",
       "      <th>Entity</th>\n",
       "      <th>Year</th>\n",
       "      <th>Schizophrenia (%)</th>\n",
       "      <th>Bipolar disorder (%)</th>\n",
       "      <th>Eating disorders (%)</th>\n",
       "      <th>Anxiety disorders (%)</th>\n",
       "      <th>Drug use disorders (%)</th>\n",
       "      <th>Depression (%)</th>\n",
       "      <th>Alcohol use disorders (%)</th>\n",
       "    </tr>\n",
       "  </thead>\n",
       "  <tbody>\n",
       "    <tr>\n",
       "      <th>0</th>\n",
       "      <td>Afghanistan</td>\n",
       "      <td>1990</td>\n",
       "      <td>0.160560</td>\n",
       "      <td>0.697779</td>\n",
       "      <td>0.101855</td>\n",
       "      <td>4.828830</td>\n",
       "      <td>1.677082</td>\n",
       "      <td>4.071831</td>\n",
       "      <td>0.672404</td>\n",
       "    </tr>\n",
       "    <tr>\n",
       "      <th>1</th>\n",
       "      <td>Afghanistan</td>\n",
       "      <td>1991</td>\n",
       "      <td>0.160312</td>\n",
       "      <td>0.697961</td>\n",
       "      <td>0.099313</td>\n",
       "      <td>4.829740</td>\n",
       "      <td>1.684746</td>\n",
       "      <td>4.079531</td>\n",
       "      <td>0.671768</td>\n",
       "    </tr>\n",
       "    <tr>\n",
       "      <th>2</th>\n",
       "      <td>Afghanistan</td>\n",
       "      <td>1992</td>\n",
       "      <td>0.160135</td>\n",
       "      <td>0.698107</td>\n",
       "      <td>0.096692</td>\n",
       "      <td>4.831108</td>\n",
       "      <td>1.694334</td>\n",
       "      <td>4.088358</td>\n",
       "      <td>0.670644</td>\n",
       "    </tr>\n",
       "    <tr>\n",
       "      <th>3</th>\n",
       "      <td>Afghanistan</td>\n",
       "      <td>1993</td>\n",
       "      <td>0.160037</td>\n",
       "      <td>0.698257</td>\n",
       "      <td>0.094336</td>\n",
       "      <td>4.830864</td>\n",
       "      <td>1.705320</td>\n",
       "      <td>4.096190</td>\n",
       "      <td>0.669738</td>\n",
       "    </tr>\n",
       "    <tr>\n",
       "      <th>4</th>\n",
       "      <td>Afghanistan</td>\n",
       "      <td>1994</td>\n",
       "      <td>0.160022</td>\n",
       "      <td>0.698469</td>\n",
       "      <td>0.092439</td>\n",
       "      <td>4.829423</td>\n",
       "      <td>1.716069</td>\n",
       "      <td>4.099582</td>\n",
       "      <td>0.669260</td>\n",
       "    </tr>\n",
       "    <tr>\n",
       "      <th>...</th>\n",
       "      <td>...</td>\n",
       "      <td>...</td>\n",
       "      <td>...</td>\n",
       "      <td>...</td>\n",
       "      <td>...</td>\n",
       "      <td>...</td>\n",
       "      <td>...</td>\n",
       "      <td>...</td>\n",
       "      <td>...</td>\n",
       "    </tr>\n",
       "    <tr>\n",
       "      <th>6463</th>\n",
       "      <td>Zimbabwe</td>\n",
       "      <td>2013</td>\n",
       "      <td>0.155670</td>\n",
       "      <td>0.607993</td>\n",
       "      <td>0.117248</td>\n",
       "      <td>3.090168</td>\n",
       "      <td>0.766280</td>\n",
       "      <td>3.128192</td>\n",
       "      <td>1.515641</td>\n",
       "    </tr>\n",
       "    <tr>\n",
       "      <th>6464</th>\n",
       "      <td>Zimbabwe</td>\n",
       "      <td>2014</td>\n",
       "      <td>0.155993</td>\n",
       "      <td>0.608610</td>\n",
       "      <td>0.118073</td>\n",
       "      <td>3.093964</td>\n",
       "      <td>0.768914</td>\n",
       "      <td>3.140290</td>\n",
       "      <td>1.515470</td>\n",
       "    </tr>\n",
       "    <tr>\n",
       "      <th>6465</th>\n",
       "      <td>Zimbabwe</td>\n",
       "      <td>2015</td>\n",
       "      <td>0.156465</td>\n",
       "      <td>0.609363</td>\n",
       "      <td>0.119470</td>\n",
       "      <td>3.098687</td>\n",
       "      <td>0.771802</td>\n",
       "      <td>3.155710</td>\n",
       "      <td>1.514751</td>\n",
       "    </tr>\n",
       "    <tr>\n",
       "      <th>6466</th>\n",
       "      <td>Zimbabwe</td>\n",
       "      <td>2016</td>\n",
       "      <td>0.157111</td>\n",
       "      <td>0.610234</td>\n",
       "      <td>0.121456</td>\n",
       "      <td>3.104294</td>\n",
       "      <td>0.772275</td>\n",
       "      <td>3.174134</td>\n",
       "      <td>1.513269</td>\n",
       "    </tr>\n",
       "    <tr>\n",
       "      <th>6467</th>\n",
       "      <td>Zimbabwe</td>\n",
       "      <td>2017</td>\n",
       "      <td>0.157963</td>\n",
       "      <td>0.611242</td>\n",
       "      <td>0.124443</td>\n",
       "      <td>3.110926</td>\n",
       "      <td>0.772648</td>\n",
       "      <td>3.192789</td>\n",
       "      <td>1.510943</td>\n",
       "    </tr>\n",
       "  </tbody>\n",
       "</table>\n",
       "<p>6468 rows × 9 columns</p>\n",
       "</div>"
      ],
      "text/plain": [
       "           Entity  Year  Schizophrenia (%)  Bipolar disorder (%)  \\\n",
       "0     Afghanistan  1990           0.160560              0.697779   \n",
       "1     Afghanistan  1991           0.160312              0.697961   \n",
       "2     Afghanistan  1992           0.160135              0.698107   \n",
       "3     Afghanistan  1993           0.160037              0.698257   \n",
       "4     Afghanistan  1994           0.160022              0.698469   \n",
       "...           ...   ...                ...                   ...   \n",
       "6463     Zimbabwe  2013           0.155670              0.607993   \n",
       "6464     Zimbabwe  2014           0.155993              0.608610   \n",
       "6465     Zimbabwe  2015           0.156465              0.609363   \n",
       "6466     Zimbabwe  2016           0.157111              0.610234   \n",
       "6467     Zimbabwe  2017           0.157963              0.611242   \n",
       "\n",
       "      Eating disorders (%)  Anxiety disorders (%)  Drug use disorders (%)  \\\n",
       "0                 0.101855               4.828830                1.677082   \n",
       "1                 0.099313               4.829740                1.684746   \n",
       "2                 0.096692               4.831108                1.694334   \n",
       "3                 0.094336               4.830864                1.705320   \n",
       "4                 0.092439               4.829423                1.716069   \n",
       "...                    ...                    ...                     ...   \n",
       "6463              0.117248               3.090168                0.766280   \n",
       "6464              0.118073               3.093964                0.768914   \n",
       "6465              0.119470               3.098687                0.771802   \n",
       "6466              0.121456               3.104294                0.772275   \n",
       "6467              0.124443               3.110926                0.772648   \n",
       "\n",
       "      Depression (%)  Alcohol use disorders (%)  \n",
       "0           4.071831                   0.672404  \n",
       "1           4.079531                   0.671768  \n",
       "2           4.088358                   0.670644  \n",
       "3           4.096190                   0.669738  \n",
       "4           4.099582                   0.669260  \n",
       "...              ...                        ...  \n",
       "6463        3.128192                   1.515641  \n",
       "6464        3.140290                   1.515470  \n",
       "6465        3.155710                   1.514751  \n",
       "6466        3.174134                   1.513269  \n",
       "6467        3.192789                   1.510943  \n",
       "\n",
       "[6468 rows x 9 columns]"
      ]
     },
     "execution_count": 84,
     "metadata": {},
     "output_type": "execute_result"
    }
   ],
   "source": [
    "df"
   ]
  },
  {
   "cell_type": "code",
   "execution_count": 65,
   "id": "c7ae11a2",
   "metadata": {},
   "outputs": [
    {
     "name": "stdout",
     "output_type": "stream",
     "text": [
      "<class 'pandas.core.frame.DataFrame'>\n",
      "RangeIndex: 108553 entries, 0 to 108552\n",
      "Data columns (total 11 columns):\n",
      " #   Column                     Non-Null Count   Dtype  \n",
      "---  ------                     --------------   -----  \n",
      " 0   index                      108553 non-null  int64  \n",
      " 1   Entity                     108553 non-null  object \n",
      " 2   Code                       103141 non-null  object \n",
      " 3   Year                       108553 non-null  object \n",
      " 4   Schizophrenia (%)          25875 non-null   object \n",
      " 5   Bipolar disorder (%)       19406 non-null   object \n",
      " 6   Eating disorders (%)       100236 non-null  object \n",
      " 7   Anxiety disorders (%)      6468 non-null    float64\n",
      " 8   Drug use disorders (%)     6468 non-null    float64\n",
      " 9   Depression (%)             6468 non-null    float64\n",
      " 10  Alcohol use disorders (%)  6468 non-null    float64\n",
      "dtypes: float64(4), int64(1), object(6)\n",
      "memory usage: 9.1+ MB\n"
     ]
    }
   ],
   "source": [
    "df.info()"
   ]
  },
  {
   "cell_type": "markdown",
   "id": "274820ad",
   "metadata": {},
   "source": [
    "Going to remove null values for mental health disorder"
   ]
  },
  {
   "cell_type": "code",
   "execution_count": 66,
   "id": "2d6efa25",
   "metadata": {},
   "outputs": [],
   "source": [
    "disorders = [\"Schizophrenia (%)\",\"Bipolar disorder (%)\", \"Eating disorders (%)\", \"Anxiety disorders (%)\", \"Drug use disorders (%)\", \"Depression (%)\",\"Alcohol use disorders (%)\"]"
   ]
  },
  {
   "cell_type": "code",
   "execution_count": 67,
   "id": "a33e7a11",
   "metadata": {},
   "outputs": [
    {
     "name": "stdout",
     "output_type": "stream",
     "text": [
      "['index' 'Entity' 'Code' 'Year' 'Schizophrenia (%)' 'Bipolar disorder (%)'\n",
      " 'Eating disorders (%)' 'Anxiety disorders (%)' 'Drug use disorders (%)'\n",
      " 'Depression (%)' 'Alcohol use disorders (%)']\n"
     ]
    }
   ],
   "source": [
    "print(df.columns.values)"
   ]
  },
  {
   "cell_type": "code",
   "execution_count": 68,
   "id": "8e0af3b6",
   "metadata": {},
   "outputs": [],
   "source": [
    "df.dropna(subset=disorders, inplace=True)"
   ]
  },
  {
   "cell_type": "code",
   "execution_count": 69,
   "id": "d467e9b0",
   "metadata": {},
   "outputs": [
    {
     "data": {
      "text/html": [
       "<div>\n",
       "<style scoped>\n",
       "    .dataframe tbody tr th:only-of-type {\n",
       "        vertical-align: middle;\n",
       "    }\n",
       "\n",
       "    .dataframe tbody tr th {\n",
       "        vertical-align: top;\n",
       "    }\n",
       "\n",
       "    .dataframe thead th {\n",
       "        text-align: right;\n",
       "    }\n",
       "</style>\n",
       "<table border=\"1\" class=\"dataframe\">\n",
       "  <thead>\n",
       "    <tr style=\"text-align: right;\">\n",
       "      <th></th>\n",
       "      <th>index</th>\n",
       "      <th>Entity</th>\n",
       "      <th>Code</th>\n",
       "      <th>Year</th>\n",
       "      <th>Schizophrenia (%)</th>\n",
       "      <th>Bipolar disorder (%)</th>\n",
       "      <th>Eating disorders (%)</th>\n",
       "      <th>Anxiety disorders (%)</th>\n",
       "      <th>Drug use disorders (%)</th>\n",
       "      <th>Depression (%)</th>\n",
       "      <th>Alcohol use disorders (%)</th>\n",
       "    </tr>\n",
       "  </thead>\n",
       "  <tbody>\n",
       "    <tr>\n",
       "      <th>0</th>\n",
       "      <td>0</td>\n",
       "      <td>Afghanistan</td>\n",
       "      <td>AFG</td>\n",
       "      <td>1990</td>\n",
       "      <td>0.16056</td>\n",
       "      <td>0.697779</td>\n",
       "      <td>0.101855</td>\n",
       "      <td>4.828830</td>\n",
       "      <td>1.677082</td>\n",
       "      <td>4.071831</td>\n",
       "      <td>0.672404</td>\n",
       "    </tr>\n",
       "    <tr>\n",
       "      <th>1</th>\n",
       "      <td>1</td>\n",
       "      <td>Afghanistan</td>\n",
       "      <td>AFG</td>\n",
       "      <td>1991</td>\n",
       "      <td>0.160312</td>\n",
       "      <td>0.697961</td>\n",
       "      <td>0.099313</td>\n",
       "      <td>4.829740</td>\n",
       "      <td>1.684746</td>\n",
       "      <td>4.079531</td>\n",
       "      <td>0.671768</td>\n",
       "    </tr>\n",
       "    <tr>\n",
       "      <th>2</th>\n",
       "      <td>2</td>\n",
       "      <td>Afghanistan</td>\n",
       "      <td>AFG</td>\n",
       "      <td>1992</td>\n",
       "      <td>0.160135</td>\n",
       "      <td>0.698107</td>\n",
       "      <td>0.096692</td>\n",
       "      <td>4.831108</td>\n",
       "      <td>1.694334</td>\n",
       "      <td>4.088358</td>\n",
       "      <td>0.670644</td>\n",
       "    </tr>\n",
       "    <tr>\n",
       "      <th>3</th>\n",
       "      <td>3</td>\n",
       "      <td>Afghanistan</td>\n",
       "      <td>AFG</td>\n",
       "      <td>1993</td>\n",
       "      <td>0.160037</td>\n",
       "      <td>0.698257</td>\n",
       "      <td>0.094336</td>\n",
       "      <td>4.830864</td>\n",
       "      <td>1.705320</td>\n",
       "      <td>4.096190</td>\n",
       "      <td>0.669738</td>\n",
       "    </tr>\n",
       "    <tr>\n",
       "      <th>4</th>\n",
       "      <td>4</td>\n",
       "      <td>Afghanistan</td>\n",
       "      <td>AFG</td>\n",
       "      <td>1994</td>\n",
       "      <td>0.160022</td>\n",
       "      <td>0.698469</td>\n",
       "      <td>0.092439</td>\n",
       "      <td>4.829423</td>\n",
       "      <td>1.716069</td>\n",
       "      <td>4.099582</td>\n",
       "      <td>0.669260</td>\n",
       "    </tr>\n",
       "    <tr>\n",
       "      <th>...</th>\n",
       "      <td>...</td>\n",
       "      <td>...</td>\n",
       "      <td>...</td>\n",
       "      <td>...</td>\n",
       "      <td>...</td>\n",
       "      <td>...</td>\n",
       "      <td>...</td>\n",
       "      <td>...</td>\n",
       "      <td>...</td>\n",
       "      <td>...</td>\n",
       "      <td>...</td>\n",
       "    </tr>\n",
       "    <tr>\n",
       "      <th>6463</th>\n",
       "      <td>6463</td>\n",
       "      <td>Zimbabwe</td>\n",
       "      <td>ZWE</td>\n",
       "      <td>2013</td>\n",
       "      <td>0.15567</td>\n",
       "      <td>0.607993</td>\n",
       "      <td>0.117248</td>\n",
       "      <td>3.090168</td>\n",
       "      <td>0.766280</td>\n",
       "      <td>3.128192</td>\n",
       "      <td>1.515641</td>\n",
       "    </tr>\n",
       "    <tr>\n",
       "      <th>6464</th>\n",
       "      <td>6464</td>\n",
       "      <td>Zimbabwe</td>\n",
       "      <td>ZWE</td>\n",
       "      <td>2014</td>\n",
       "      <td>0.155993</td>\n",
       "      <td>0.60861</td>\n",
       "      <td>0.118073</td>\n",
       "      <td>3.093964</td>\n",
       "      <td>0.768914</td>\n",
       "      <td>3.140290</td>\n",
       "      <td>1.515470</td>\n",
       "    </tr>\n",
       "    <tr>\n",
       "      <th>6465</th>\n",
       "      <td>6465</td>\n",
       "      <td>Zimbabwe</td>\n",
       "      <td>ZWE</td>\n",
       "      <td>2015</td>\n",
       "      <td>0.156465</td>\n",
       "      <td>0.609363</td>\n",
       "      <td>0.11947</td>\n",
       "      <td>3.098687</td>\n",
       "      <td>0.771802</td>\n",
       "      <td>3.155710</td>\n",
       "      <td>1.514751</td>\n",
       "    </tr>\n",
       "    <tr>\n",
       "      <th>6466</th>\n",
       "      <td>6466</td>\n",
       "      <td>Zimbabwe</td>\n",
       "      <td>ZWE</td>\n",
       "      <td>2016</td>\n",
       "      <td>0.157111</td>\n",
       "      <td>0.610234</td>\n",
       "      <td>0.121456</td>\n",
       "      <td>3.104294</td>\n",
       "      <td>0.772275</td>\n",
       "      <td>3.174134</td>\n",
       "      <td>1.513269</td>\n",
       "    </tr>\n",
       "    <tr>\n",
       "      <th>6467</th>\n",
       "      <td>6467</td>\n",
       "      <td>Zimbabwe</td>\n",
       "      <td>ZWE</td>\n",
       "      <td>2017</td>\n",
       "      <td>0.157963</td>\n",
       "      <td>0.611242</td>\n",
       "      <td>0.124443</td>\n",
       "      <td>3.110926</td>\n",
       "      <td>0.772648</td>\n",
       "      <td>3.192789</td>\n",
       "      <td>1.510943</td>\n",
       "    </tr>\n",
       "  </tbody>\n",
       "</table>\n",
       "<p>6468 rows × 11 columns</p>\n",
       "</div>"
      ],
      "text/plain": [
       "      index       Entity Code  Year Schizophrenia (%) Bipolar disorder (%)  \\\n",
       "0         0  Afghanistan  AFG  1990           0.16056             0.697779   \n",
       "1         1  Afghanistan  AFG  1991          0.160312             0.697961   \n",
       "2         2  Afghanistan  AFG  1992          0.160135             0.698107   \n",
       "3         3  Afghanistan  AFG  1993          0.160037             0.698257   \n",
       "4         4  Afghanistan  AFG  1994          0.160022             0.698469   \n",
       "...     ...          ...  ...   ...               ...                  ...   \n",
       "6463   6463     Zimbabwe  ZWE  2013           0.15567             0.607993   \n",
       "6464   6464     Zimbabwe  ZWE  2014          0.155993              0.60861   \n",
       "6465   6465     Zimbabwe  ZWE  2015          0.156465             0.609363   \n",
       "6466   6466     Zimbabwe  ZWE  2016          0.157111             0.610234   \n",
       "6467   6467     Zimbabwe  ZWE  2017          0.157963             0.611242   \n",
       "\n",
       "     Eating disorders (%)  Anxiety disorders (%)  Drug use disorders (%)  \\\n",
       "0                0.101855               4.828830                1.677082   \n",
       "1                0.099313               4.829740                1.684746   \n",
       "2                0.096692               4.831108                1.694334   \n",
       "3                0.094336               4.830864                1.705320   \n",
       "4                0.092439               4.829423                1.716069   \n",
       "...                   ...                    ...                     ...   \n",
       "6463             0.117248               3.090168                0.766280   \n",
       "6464             0.118073               3.093964                0.768914   \n",
       "6465              0.11947               3.098687                0.771802   \n",
       "6466             0.121456               3.104294                0.772275   \n",
       "6467             0.124443               3.110926                0.772648   \n",
       "\n",
       "      Depression (%)  Alcohol use disorders (%)  \n",
       "0           4.071831                   0.672404  \n",
       "1           4.079531                   0.671768  \n",
       "2           4.088358                   0.670644  \n",
       "3           4.096190                   0.669738  \n",
       "4           4.099582                   0.669260  \n",
       "...              ...                        ...  \n",
       "6463        3.128192                   1.515641  \n",
       "6464        3.140290                   1.515470  \n",
       "6465        3.155710                   1.514751  \n",
       "6466        3.174134                   1.513269  \n",
       "6467        3.192789                   1.510943  \n",
       "\n",
       "[6468 rows x 11 columns]"
      ]
     },
     "execution_count": 69,
     "metadata": {},
     "output_type": "execute_result"
    }
   ],
   "source": [
    "df"
   ]
  },
  {
   "cell_type": "markdown",
   "id": "f5f1ed08",
   "metadata": {},
   "source": [
    "Dropping Code Column and renaming Entity to Country"
   ]
  },
  {
   "cell_type": "code",
   "execution_count": 70,
   "id": "3b9b5e2a",
   "metadata": {},
   "outputs": [],
   "source": [
    "df.drop(labels=[\"index\", \"Code\"], axis = 1, inplace=True)"
   ]
  },
  {
   "cell_type": "code",
   "execution_count": 71,
   "id": "30b408e1",
   "metadata": {},
   "outputs": [
    {
     "data": {
      "text/html": [
       "<div>\n",
       "<style scoped>\n",
       "    .dataframe tbody tr th:only-of-type {\n",
       "        vertical-align: middle;\n",
       "    }\n",
       "\n",
       "    .dataframe tbody tr th {\n",
       "        vertical-align: top;\n",
       "    }\n",
       "\n",
       "    .dataframe thead th {\n",
       "        text-align: right;\n",
       "    }\n",
       "</style>\n",
       "<table border=\"1\" class=\"dataframe\">\n",
       "  <thead>\n",
       "    <tr style=\"text-align: right;\">\n",
       "      <th></th>\n",
       "      <th>Entity</th>\n",
       "      <th>Year</th>\n",
       "      <th>Schizophrenia (%)</th>\n",
       "      <th>Bipolar disorder (%)</th>\n",
       "      <th>Eating disorders (%)</th>\n",
       "      <th>Anxiety disorders (%)</th>\n",
       "      <th>Drug use disorders (%)</th>\n",
       "      <th>Depression (%)</th>\n",
       "      <th>Alcohol use disorders (%)</th>\n",
       "    </tr>\n",
       "  </thead>\n",
       "  <tbody>\n",
       "    <tr>\n",
       "      <th>0</th>\n",
       "      <td>Afghanistan</td>\n",
       "      <td>1990</td>\n",
       "      <td>0.16056</td>\n",
       "      <td>0.697779</td>\n",
       "      <td>0.101855</td>\n",
       "      <td>4.828830</td>\n",
       "      <td>1.677082</td>\n",
       "      <td>4.071831</td>\n",
       "      <td>0.672404</td>\n",
       "    </tr>\n",
       "    <tr>\n",
       "      <th>1</th>\n",
       "      <td>Afghanistan</td>\n",
       "      <td>1991</td>\n",
       "      <td>0.160312</td>\n",
       "      <td>0.697961</td>\n",
       "      <td>0.099313</td>\n",
       "      <td>4.829740</td>\n",
       "      <td>1.684746</td>\n",
       "      <td>4.079531</td>\n",
       "      <td>0.671768</td>\n",
       "    </tr>\n",
       "    <tr>\n",
       "      <th>2</th>\n",
       "      <td>Afghanistan</td>\n",
       "      <td>1992</td>\n",
       "      <td>0.160135</td>\n",
       "      <td>0.698107</td>\n",
       "      <td>0.096692</td>\n",
       "      <td>4.831108</td>\n",
       "      <td>1.694334</td>\n",
       "      <td>4.088358</td>\n",
       "      <td>0.670644</td>\n",
       "    </tr>\n",
       "    <tr>\n",
       "      <th>3</th>\n",
       "      <td>Afghanistan</td>\n",
       "      <td>1993</td>\n",
       "      <td>0.160037</td>\n",
       "      <td>0.698257</td>\n",
       "      <td>0.094336</td>\n",
       "      <td>4.830864</td>\n",
       "      <td>1.705320</td>\n",
       "      <td>4.096190</td>\n",
       "      <td>0.669738</td>\n",
       "    </tr>\n",
       "    <tr>\n",
       "      <th>4</th>\n",
       "      <td>Afghanistan</td>\n",
       "      <td>1994</td>\n",
       "      <td>0.160022</td>\n",
       "      <td>0.698469</td>\n",
       "      <td>0.092439</td>\n",
       "      <td>4.829423</td>\n",
       "      <td>1.716069</td>\n",
       "      <td>4.099582</td>\n",
       "      <td>0.669260</td>\n",
       "    </tr>\n",
       "    <tr>\n",
       "      <th>...</th>\n",
       "      <td>...</td>\n",
       "      <td>...</td>\n",
       "      <td>...</td>\n",
       "      <td>...</td>\n",
       "      <td>...</td>\n",
       "      <td>...</td>\n",
       "      <td>...</td>\n",
       "      <td>...</td>\n",
       "      <td>...</td>\n",
       "    </tr>\n",
       "    <tr>\n",
       "      <th>6463</th>\n",
       "      <td>Zimbabwe</td>\n",
       "      <td>2013</td>\n",
       "      <td>0.15567</td>\n",
       "      <td>0.607993</td>\n",
       "      <td>0.117248</td>\n",
       "      <td>3.090168</td>\n",
       "      <td>0.766280</td>\n",
       "      <td>3.128192</td>\n",
       "      <td>1.515641</td>\n",
       "    </tr>\n",
       "    <tr>\n",
       "      <th>6464</th>\n",
       "      <td>Zimbabwe</td>\n",
       "      <td>2014</td>\n",
       "      <td>0.155993</td>\n",
       "      <td>0.60861</td>\n",
       "      <td>0.118073</td>\n",
       "      <td>3.093964</td>\n",
       "      <td>0.768914</td>\n",
       "      <td>3.140290</td>\n",
       "      <td>1.515470</td>\n",
       "    </tr>\n",
       "    <tr>\n",
       "      <th>6465</th>\n",
       "      <td>Zimbabwe</td>\n",
       "      <td>2015</td>\n",
       "      <td>0.156465</td>\n",
       "      <td>0.609363</td>\n",
       "      <td>0.11947</td>\n",
       "      <td>3.098687</td>\n",
       "      <td>0.771802</td>\n",
       "      <td>3.155710</td>\n",
       "      <td>1.514751</td>\n",
       "    </tr>\n",
       "    <tr>\n",
       "      <th>6466</th>\n",
       "      <td>Zimbabwe</td>\n",
       "      <td>2016</td>\n",
       "      <td>0.157111</td>\n",
       "      <td>0.610234</td>\n",
       "      <td>0.121456</td>\n",
       "      <td>3.104294</td>\n",
       "      <td>0.772275</td>\n",
       "      <td>3.174134</td>\n",
       "      <td>1.513269</td>\n",
       "    </tr>\n",
       "    <tr>\n",
       "      <th>6467</th>\n",
       "      <td>Zimbabwe</td>\n",
       "      <td>2017</td>\n",
       "      <td>0.157963</td>\n",
       "      <td>0.611242</td>\n",
       "      <td>0.124443</td>\n",
       "      <td>3.110926</td>\n",
       "      <td>0.772648</td>\n",
       "      <td>3.192789</td>\n",
       "      <td>1.510943</td>\n",
       "    </tr>\n",
       "  </tbody>\n",
       "</table>\n",
       "<p>6468 rows × 9 columns</p>\n",
       "</div>"
      ],
      "text/plain": [
       "           Entity  Year Schizophrenia (%) Bipolar disorder (%)  \\\n",
       "0     Afghanistan  1990           0.16056             0.697779   \n",
       "1     Afghanistan  1991          0.160312             0.697961   \n",
       "2     Afghanistan  1992          0.160135             0.698107   \n",
       "3     Afghanistan  1993          0.160037             0.698257   \n",
       "4     Afghanistan  1994          0.160022             0.698469   \n",
       "...           ...   ...               ...                  ...   \n",
       "6463     Zimbabwe  2013           0.15567             0.607993   \n",
       "6464     Zimbabwe  2014          0.155993              0.60861   \n",
       "6465     Zimbabwe  2015          0.156465             0.609363   \n",
       "6466     Zimbabwe  2016          0.157111             0.610234   \n",
       "6467     Zimbabwe  2017          0.157963             0.611242   \n",
       "\n",
       "     Eating disorders (%)  Anxiety disorders (%)  Drug use disorders (%)  \\\n",
       "0                0.101855               4.828830                1.677082   \n",
       "1                0.099313               4.829740                1.684746   \n",
       "2                0.096692               4.831108                1.694334   \n",
       "3                0.094336               4.830864                1.705320   \n",
       "4                0.092439               4.829423                1.716069   \n",
       "...                   ...                    ...                     ...   \n",
       "6463             0.117248               3.090168                0.766280   \n",
       "6464             0.118073               3.093964                0.768914   \n",
       "6465              0.11947               3.098687                0.771802   \n",
       "6466             0.121456               3.104294                0.772275   \n",
       "6467             0.124443               3.110926                0.772648   \n",
       "\n",
       "      Depression (%)  Alcohol use disorders (%)  \n",
       "0           4.071831                   0.672404  \n",
       "1           4.079531                   0.671768  \n",
       "2           4.088358                   0.670644  \n",
       "3           4.096190                   0.669738  \n",
       "4           4.099582                   0.669260  \n",
       "...              ...                        ...  \n",
       "6463        3.128192                   1.515641  \n",
       "6464        3.140290                   1.515470  \n",
       "6465        3.155710                   1.514751  \n",
       "6466        3.174134                   1.513269  \n",
       "6467        3.192789                   1.510943  \n",
       "\n",
       "[6468 rows x 9 columns]"
      ]
     },
     "execution_count": 71,
     "metadata": {},
     "output_type": "execute_result"
    }
   ],
   "source": [
    "df"
   ]
  },
  {
   "cell_type": "markdown",
   "id": "b7275477",
   "metadata": {},
   "source": [
    "Changing Data Types "
   ]
  },
  {
   "cell_type": "code",
   "execution_count": 72,
   "id": "e81ddc90",
   "metadata": {},
   "outputs": [
    {
     "name": "stdout",
     "output_type": "stream",
     "text": [
      "<class 'pandas.core.frame.DataFrame'>\n",
      "Int64Index: 6468 entries, 0 to 6467\n",
      "Data columns (total 9 columns):\n",
      " #   Column                     Non-Null Count  Dtype  \n",
      "---  ------                     --------------  -----  \n",
      " 0   Entity                     6468 non-null   object \n",
      " 1   Year                       6468 non-null   object \n",
      " 2   Schizophrenia (%)          6468 non-null   object \n",
      " 3   Bipolar disorder (%)       6468 non-null   object \n",
      " 4   Eating disorders (%)       6468 non-null   object \n",
      " 5   Anxiety disorders (%)      6468 non-null   float64\n",
      " 6   Drug use disorders (%)     6468 non-null   float64\n",
      " 7   Depression (%)             6468 non-null   float64\n",
      " 8   Alcohol use disorders (%)  6468 non-null   float64\n",
      "dtypes: float64(4), object(5)\n",
      "memory usage: 505.3+ KB\n"
     ]
    }
   ],
   "source": [
    "df.info()"
   ]
  },
  {
   "cell_type": "code",
   "execution_count": 73,
   "id": "806268ff",
   "metadata": {},
   "outputs": [],
   "source": [
    "df[\"Entity\"] = df[\"Entity\"].astype(\"string\")\n",
    "df[\"Year\"] = df[\"Year\"].astype(\"int64\")\n",
    "df[\"Schizophrenia (%)\"] = df[\"Schizophrenia (%)\"].astype(\"float64\")\n",
    "df[\"Bipolar disorder (%)\"] = df[\"Bipolar disorder (%)\"].astype(\"float64\")\n",
    "df[\"Eating disorders (%)\"] = df[\"Eating disorders (%)\"].astype(\"float64\")"
   ]
  },
  {
   "cell_type": "code",
   "execution_count": 77,
   "id": "59cd5313",
   "metadata": {},
   "outputs": [
    {
     "name": "stdout",
     "output_type": "stream",
     "text": [
      "<class 'pandas.core.frame.DataFrame'>\n",
      "Int64Index: 6468 entries, 0 to 6467\n",
      "Data columns (total 9 columns):\n",
      " #   Column                     Non-Null Count  Dtype  \n",
      "---  ------                     --------------  -----  \n",
      " 0   Entity                     6468 non-null   string \n",
      " 1   Year                       6468 non-null   int64  \n",
      " 2   Schizophrenia (%)          6468 non-null   float64\n",
      " 3   Bipolar disorder (%)       6468 non-null   float64\n",
      " 4   Eating disorders (%)       6468 non-null   float64\n",
      " 5   Anxiety disorders (%)      6468 non-null   float64\n",
      " 6   Drug use disorders (%)     6468 non-null   float64\n",
      " 7   Depression (%)             6468 non-null   float64\n",
      " 8   Alcohol use disorders (%)  6468 non-null   float64\n",
      "dtypes: float64(7), int64(1), string(1)\n",
      "memory usage: 505.3 KB\n"
     ]
    }
   ],
   "source": [
    "df.info()"
   ]
  },
  {
   "cell_type": "markdown",
   "id": "0395d968",
   "metadata": {},
   "source": [
    "Checking for Extreme values "
   ]
  },
  {
   "cell_type": "code",
   "execution_count": 17,
   "id": "3cdb86f5",
   "metadata": {},
   "outputs": [
    {
     "data": {
      "text/plain": [
       "1990    231\n",
       "1991    231\n",
       "2016    231\n",
       "2015    231\n",
       "2014    231\n",
       "2013    231\n",
       "2012    231\n",
       "2011    231\n",
       "2010    231\n",
       "2009    231\n",
       "2008    231\n",
       "2007    231\n",
       "2006    231\n",
       "2005    231\n",
       "2004    231\n",
       "2003    231\n",
       "2002    231\n",
       "2001    231\n",
       "2000    231\n",
       "1999    231\n",
       "1998    231\n",
       "1997    231\n",
       "1996    231\n",
       "1995    231\n",
       "1994    231\n",
       "1993    231\n",
       "1992    231\n",
       "2017    231\n",
       "Name: Year, dtype: int64"
      ]
     },
     "execution_count": 17,
     "metadata": {},
     "output_type": "execute_result"
    }
   ],
   "source": [
    "df[\"Year\"].value_counts()"
   ]
  },
  {
   "cell_type": "code",
   "execution_count": 81,
   "id": "de2997f5",
   "metadata": {},
   "outputs": [
    {
     "data": {
      "text/html": [
       "<div>\n",
       "<style scoped>\n",
       "    .dataframe tbody tr th:only-of-type {\n",
       "        vertical-align: middle;\n",
       "    }\n",
       "\n",
       "    .dataframe tbody tr th {\n",
       "        vertical-align: top;\n",
       "    }\n",
       "\n",
       "    .dataframe thead th {\n",
       "        text-align: right;\n",
       "    }\n",
       "</style>\n",
       "<table border=\"1\" class=\"dataframe\">\n",
       "  <thead>\n",
       "    <tr style=\"text-align: right;\">\n",
       "      <th></th>\n",
       "      <th>Entity</th>\n",
       "      <th>Year</th>\n",
       "      <th>Schizophrenia (%)</th>\n",
       "      <th>Bipolar disorder (%)</th>\n",
       "      <th>Eating disorders (%)</th>\n",
       "      <th>Anxiety disorders (%)</th>\n",
       "      <th>Drug use disorders (%)</th>\n",
       "      <th>Depression (%)</th>\n",
       "      <th>Alcohol use disorders (%)</th>\n",
       "    </tr>\n",
       "  </thead>\n",
       "  <tbody>\n",
       "  </tbody>\n",
       "</table>\n",
       "</div>"
      ],
      "text/plain": [
       "Empty DataFrame\n",
       "Columns: [Entity, Year, Schizophrenia (%), Bipolar disorder (%), Eating disorders (%), Anxiety disorders (%), Drug use disorders (%), Depression (%), Alcohol use disorders (%)]\n",
       "Index: []"
      ]
     },
     "execution_count": 81,
     "metadata": {},
     "output_type": "execute_result"
    }
   ],
   "source": [
    "df[df[\"Schizophrenia (%)\"] < 0]"
   ]
  },
  {
   "cell_type": "code",
   "execution_count": 19,
   "id": "81576662",
   "metadata": {},
   "outputs": [
    {
     "data": {
      "text/html": [
       "<div>\n",
       "<style scoped>\n",
       "    .dataframe tbody tr th:only-of-type {\n",
       "        vertical-align: middle;\n",
       "    }\n",
       "\n",
       "    .dataframe tbody tr th {\n",
       "        vertical-align: top;\n",
       "    }\n",
       "\n",
       "    .dataframe thead th {\n",
       "        text-align: right;\n",
       "    }\n",
       "</style>\n",
       "<table border=\"1\" class=\"dataframe\">\n",
       "  <thead>\n",
       "    <tr style=\"text-align: right;\">\n",
       "      <th></th>\n",
       "      <th>Entity</th>\n",
       "      <th>Year</th>\n",
       "      <th>Schizophrenia (%)</th>\n",
       "      <th>Bipolar disorder (%)</th>\n",
       "      <th>Eating disorders (%)</th>\n",
       "      <th>Anxiety disorders (%)</th>\n",
       "      <th>Drug use disorders (%)</th>\n",
       "      <th>Depression (%)</th>\n",
       "      <th>Alcohol use disorders (%)</th>\n",
       "    </tr>\n",
       "  </thead>\n",
       "  <tbody>\n",
       "  </tbody>\n",
       "</table>\n",
       "</div>"
      ],
      "text/plain": [
       "Empty DataFrame\n",
       "Columns: [Entity, Year, Schizophrenia (%), Bipolar disorder (%), Eating disorders (%), Anxiety disorders (%), Drug use disorders (%), Depression (%), Alcohol use disorders (%)]\n",
       "Index: []"
      ]
     },
     "execution_count": 19,
     "metadata": {},
     "output_type": "execute_result"
    }
   ],
   "source": [
    "df[df[\"Bipolar disorder (%)\"] < 0]"
   ]
  },
  {
   "cell_type": "code",
   "execution_count": 20,
   "id": "a156b451",
   "metadata": {},
   "outputs": [
    {
     "data": {
      "text/html": [
       "<div>\n",
       "<style scoped>\n",
       "    .dataframe tbody tr th:only-of-type {\n",
       "        vertical-align: middle;\n",
       "    }\n",
       "\n",
       "    .dataframe tbody tr th {\n",
       "        vertical-align: top;\n",
       "    }\n",
       "\n",
       "    .dataframe thead th {\n",
       "        text-align: right;\n",
       "    }\n",
       "</style>\n",
       "<table border=\"1\" class=\"dataframe\">\n",
       "  <thead>\n",
       "    <tr style=\"text-align: right;\">\n",
       "      <th></th>\n",
       "      <th>Entity</th>\n",
       "      <th>Year</th>\n",
       "      <th>Schizophrenia (%)</th>\n",
       "      <th>Bipolar disorder (%)</th>\n",
       "      <th>Eating disorders (%)</th>\n",
       "      <th>Anxiety disorders (%)</th>\n",
       "      <th>Drug use disorders (%)</th>\n",
       "      <th>Depression (%)</th>\n",
       "      <th>Alcohol use disorders (%)</th>\n",
       "    </tr>\n",
       "  </thead>\n",
       "  <tbody>\n",
       "  </tbody>\n",
       "</table>\n",
       "</div>"
      ],
      "text/plain": [
       "Empty DataFrame\n",
       "Columns: [Entity, Year, Schizophrenia (%), Bipolar disorder (%), Eating disorders (%), Anxiety disorders (%), Drug use disorders (%), Depression (%), Alcohol use disorders (%)]\n",
       "Index: []"
      ]
     },
     "execution_count": 20,
     "metadata": {},
     "output_type": "execute_result"
    }
   ],
   "source": [
    "df[df[\"Eating disorders (%)\"] < 0]"
   ]
  },
  {
   "cell_type": "code",
   "execution_count": 21,
   "id": "45767a17",
   "metadata": {},
   "outputs": [
    {
     "data": {
      "text/html": [
       "<div>\n",
       "<style scoped>\n",
       "    .dataframe tbody tr th:only-of-type {\n",
       "        vertical-align: middle;\n",
       "    }\n",
       "\n",
       "    .dataframe tbody tr th {\n",
       "        vertical-align: top;\n",
       "    }\n",
       "\n",
       "    .dataframe thead th {\n",
       "        text-align: right;\n",
       "    }\n",
       "</style>\n",
       "<table border=\"1\" class=\"dataframe\">\n",
       "  <thead>\n",
       "    <tr style=\"text-align: right;\">\n",
       "      <th></th>\n",
       "      <th>Entity</th>\n",
       "      <th>Year</th>\n",
       "      <th>Schizophrenia (%)</th>\n",
       "      <th>Bipolar disorder (%)</th>\n",
       "      <th>Eating disorders (%)</th>\n",
       "      <th>Anxiety disorders (%)</th>\n",
       "      <th>Drug use disorders (%)</th>\n",
       "      <th>Depression (%)</th>\n",
       "      <th>Alcohol use disorders (%)</th>\n",
       "    </tr>\n",
       "  </thead>\n",
       "  <tbody>\n",
       "  </tbody>\n",
       "</table>\n",
       "</div>"
      ],
      "text/plain": [
       "Empty DataFrame\n",
       "Columns: [Entity, Year, Schizophrenia (%), Bipolar disorder (%), Eating disorders (%), Anxiety disorders (%), Drug use disorders (%), Depression (%), Alcohol use disorders (%)]\n",
       "Index: []"
      ]
     },
     "execution_count": 21,
     "metadata": {},
     "output_type": "execute_result"
    }
   ],
   "source": [
    "df[df[\"Anxiety disorders (%)\"] < 0]"
   ]
  },
  {
   "cell_type": "code",
   "execution_count": 22,
   "id": "cd467d9d",
   "metadata": {},
   "outputs": [
    {
     "data": {
      "text/html": [
       "<div>\n",
       "<style scoped>\n",
       "    .dataframe tbody tr th:only-of-type {\n",
       "        vertical-align: middle;\n",
       "    }\n",
       "\n",
       "    .dataframe tbody tr th {\n",
       "        vertical-align: top;\n",
       "    }\n",
       "\n",
       "    .dataframe thead th {\n",
       "        text-align: right;\n",
       "    }\n",
       "</style>\n",
       "<table border=\"1\" class=\"dataframe\">\n",
       "  <thead>\n",
       "    <tr style=\"text-align: right;\">\n",
       "      <th></th>\n",
       "      <th>Entity</th>\n",
       "      <th>Year</th>\n",
       "      <th>Schizophrenia (%)</th>\n",
       "      <th>Bipolar disorder (%)</th>\n",
       "      <th>Eating disorders (%)</th>\n",
       "      <th>Anxiety disorders (%)</th>\n",
       "      <th>Drug use disorders (%)</th>\n",
       "      <th>Depression (%)</th>\n",
       "      <th>Alcohol use disorders (%)</th>\n",
       "    </tr>\n",
       "  </thead>\n",
       "  <tbody>\n",
       "  </tbody>\n",
       "</table>\n",
       "</div>"
      ],
      "text/plain": [
       "Empty DataFrame\n",
       "Columns: [Entity, Year, Schizophrenia (%), Bipolar disorder (%), Eating disorders (%), Anxiety disorders (%), Drug use disorders (%), Depression (%), Alcohol use disorders (%)]\n",
       "Index: []"
      ]
     },
     "execution_count": 22,
     "metadata": {},
     "output_type": "execute_result"
    }
   ],
   "source": [
    "df[df[\"Drug use disorders (%)\"] < 0]"
   ]
  },
  {
   "cell_type": "code",
   "execution_count": 23,
   "id": "37887281",
   "metadata": {},
   "outputs": [
    {
     "data": {
      "text/html": [
       "<div>\n",
       "<style scoped>\n",
       "    .dataframe tbody tr th:only-of-type {\n",
       "        vertical-align: middle;\n",
       "    }\n",
       "\n",
       "    .dataframe tbody tr th {\n",
       "        vertical-align: top;\n",
       "    }\n",
       "\n",
       "    .dataframe thead th {\n",
       "        text-align: right;\n",
       "    }\n",
       "</style>\n",
       "<table border=\"1\" class=\"dataframe\">\n",
       "  <thead>\n",
       "    <tr style=\"text-align: right;\">\n",
       "      <th></th>\n",
       "      <th>Entity</th>\n",
       "      <th>Year</th>\n",
       "      <th>Schizophrenia (%)</th>\n",
       "      <th>Bipolar disorder (%)</th>\n",
       "      <th>Eating disorders (%)</th>\n",
       "      <th>Anxiety disorders (%)</th>\n",
       "      <th>Drug use disorders (%)</th>\n",
       "      <th>Depression (%)</th>\n",
       "      <th>Alcohol use disorders (%)</th>\n",
       "    </tr>\n",
       "  </thead>\n",
       "  <tbody>\n",
       "  </tbody>\n",
       "</table>\n",
       "</div>"
      ],
      "text/plain": [
       "Empty DataFrame\n",
       "Columns: [Entity, Year, Schizophrenia (%), Bipolar disorder (%), Eating disorders (%), Anxiety disorders (%), Drug use disorders (%), Depression (%), Alcohol use disorders (%)]\n",
       "Index: []"
      ]
     },
     "execution_count": 23,
     "metadata": {},
     "output_type": "execute_result"
    }
   ],
   "source": [
    "df[df[\"Depression (%)\"] < 0]"
   ]
  },
  {
   "cell_type": "code",
   "execution_count": 24,
   "id": "5973377d",
   "metadata": {},
   "outputs": [
    {
     "data": {
      "text/html": [
       "<div>\n",
       "<style scoped>\n",
       "    .dataframe tbody tr th:only-of-type {\n",
       "        vertical-align: middle;\n",
       "    }\n",
       "\n",
       "    .dataframe tbody tr th {\n",
       "        vertical-align: top;\n",
       "    }\n",
       "\n",
       "    .dataframe thead th {\n",
       "        text-align: right;\n",
       "    }\n",
       "</style>\n",
       "<table border=\"1\" class=\"dataframe\">\n",
       "  <thead>\n",
       "    <tr style=\"text-align: right;\">\n",
       "      <th></th>\n",
       "      <th>Entity</th>\n",
       "      <th>Year</th>\n",
       "      <th>Schizophrenia (%)</th>\n",
       "      <th>Bipolar disorder (%)</th>\n",
       "      <th>Eating disorders (%)</th>\n",
       "      <th>Anxiety disorders (%)</th>\n",
       "      <th>Drug use disorders (%)</th>\n",
       "      <th>Depression (%)</th>\n",
       "      <th>Alcohol use disorders (%)</th>\n",
       "    </tr>\n",
       "  </thead>\n",
       "  <tbody>\n",
       "  </tbody>\n",
       "</table>\n",
       "</div>"
      ],
      "text/plain": [
       "Empty DataFrame\n",
       "Columns: [Entity, Year, Schizophrenia (%), Bipolar disorder (%), Eating disorders (%), Anxiety disorders (%), Drug use disorders (%), Depression (%), Alcohol use disorders (%)]\n",
       "Index: []"
      ]
     },
     "execution_count": 24,
     "metadata": {},
     "output_type": "execute_result"
    }
   ],
   "source": [
    "df[df[\"Alcohol use disorders (%)\"] < 0]"
   ]
  },
  {
   "cell_type": "code",
   "execution_count": 43,
   "id": "49061e92",
   "metadata": {},
   "outputs": [
    {
     "name": "stdout",
     "output_type": "stream",
     "text": [
      "<class 'pandas.core.frame.DataFrame'>\n",
      "Int64Index: 6468 entries, 0 to 6467\n",
      "Data columns (total 9 columns):\n",
      " #   Column                     Non-Null Count  Dtype  \n",
      "---  ------                     --------------  -----  \n",
      " 0   Entity                     6468 non-null   string \n",
      " 1   Year                       6468 non-null   int64  \n",
      " 2   Schizophrenia (%)          6468 non-null   float64\n",
      " 3   Bipolar disorder (%)       6468 non-null   float64\n",
      " 4   Eating disorders (%)       6468 non-null   float64\n",
      " 5   Anxiety disorders (%)      6468 non-null   float64\n",
      " 6   Drug use disorders (%)     6468 non-null   float64\n",
      " 7   Depression (%)             6468 non-null   float64\n",
      " 8   Alcohol use disorders (%)  6468 non-null   float64\n",
      "dtypes: float64(7), int64(1), string(1)\n",
      "memory usage: 505.3 KB\n"
     ]
    }
   ],
   "source": [
    "df.info()"
   ]
  },
  {
   "cell_type": "code",
   "execution_count": 27,
   "id": "b090dcb3",
   "metadata": {},
   "outputs": [],
   "source": [
    "schitz_arr = df['Schizophrenia (%)'].tolist()\n",
    "bipol_arr = df['Bipolar disorder (%)'].tolist()\n",
    "eat_dis_arr = df['Eating disorders (%)'].tolist()\n",
    "anx_arr = df['Anxiety disorders (%)'].tolist()\n",
    "drug_use_arr = df['Drug use disorders (%)'].tolist()\n",
    "depr_arr = df['Depression (%)'].tolist()\n",
    "alc_use_arr = df['Alcohol use disorders (%)'].tolist()"
   ]
  },
  {
   "cell_type": "code",
   "execution_count": 34,
   "id": "e79e0b84",
   "metadata": {},
   "outputs": [
    {
     "name": "stdout",
     "output_type": "stream",
     "text": [
      "[0.672404, 0.671768, 0.670644, 0.669738, 0.66926, 0.668746, 0.667727, 0.66622, 0.664676, 0.663428, 0.662479, 0.661158, 0.659213, 0.657354, 0.656132, 0.655686, 0.656297, 0.657709, 0.659501, 0.661185, 0.662062, 0.662254, 0.662372, 0.662433, 0.662447, 0.662276, 0.66185, 0.661217, 1.709465, 1.708135, 1.706053, 1.703585, 1.701142, 1.69912, 1.693187, 1.68162, 1.668865, 1.658553, 1.654338, 1.65904, 1.670158, 1.685102, 1.701433, 1.716585, 1.737167, 1.766903, 1.79855, 1.824955, 1.838566, 1.843256, 1.847375, 1.850358, 1.851517, 1.850252, 1.845972, 1.837955, 0.644399, 0.644877, 0.645308, 0.645669, 0.646001, 0.646295, 0.64654, 0.646765, 0.646979, 0.64729, 0.647654, 0.648095, 0.648584, 0.649199, 0.649949, 0.650851, 0.65264, 0.655626, 0.658998, 0.661914, 0.663538, 0.664221, 0.664827, 0.665344, 0.665685, 0.665817, 0.665681, 0.665191, 1.153825, 1.15165, 1.149066, 1.146364, 1.14374, 1.141503, 1.139142, 1.136678, 1.134137, 1.13155, 1.129016, 1.126103, 1.12308, 1.12032, 1.118199, 1.117152, 1.118873, 1.123437, 1.129116, 1.13418, 1.136893, 1.137934, 1.138978, 1.139932, 1.140782, 1.141513, 1.142011, 1.142277, 1.748912, 1.74391, 1.738703, 1.733697, 1.729266, 1.725643, 1.720921, 1.713773, 1.705295, 1.696533, 1.688634, 1.67907, 1.666052, 1.651636, 1.637763, 1.626136, 1.616266, 1.606861, 1.598278, 1.590828, 1.584707, 1.578811, 1.572009, 1.564438, 1.556634, 1.548874, 1.541201, 1.533573, 1.187786, 1.190353, 1.189048, 1.191464, 1.189042, 1.186943, 1.189006, 1.197234, 1.205991, 1.215117, 1.218826, 1.219284, 1.221249, 1.225413, 1.231806, 1.235316, 1.240683, 1.245927, 1.248914, 1.250261, 1.250824, 1.242683, 1.245344, 1.245315, 1.248614, 1.251926, 1.253886, 1.25605, 1.489683, 1.484808, 1.479607, 1.474096, 1.468493, 1.463132, 1.457297, 1.450443, 1.44282, 1.43486, 1.427089, 1.417397, 1.405278, 1.393276, 1.383804, 1.379409, 1.379616, 1.381686, 1.384554, 1.387104, 1.388193, 1.387895, 1.387295, 1.386365, 1.385029, 1.383269, 1.381018, 1.378244, 2.083017, 2.091997, 2.098263, 2.102025, 2.103513, 2.102846, 2.099294, 2.093296, 2.086392, 2.080039, 2.075796, 2.075933, 2.080573, 2.087524, 2.094256, 2.098566, 2.100656, 2.10269, 2.104989, 2.107696, 2.111057, 2.115421, 2.120836, 2.127217, 2.134396, 2.142253, 2.150762, 2.159736, 1.918939, 2.02204, 2.116047, 2.193307, 2.246206, 2.266897, 2.268023, 2.267957, 2.267221, 2.266152, 2.265181, 2.264304, 2.262875, 2.259731, 2.254094, 2.244914, 2.196387, 2.096837, 1.980933, 1.883428, 1.839168, 1.833472, 1.828883, 1.825346, 1.82308, 1.822172, 1.822573, 1.824515, 2.155621, 2.164656, 2.16894, 2.169178, 2.166415, 2.16216, 2.152968, 2.136961, 2.116879, 2.095883, 2.07705, 2.051013, 2.013221, 1.973232, 1.941172, 1.926991, 1.932295, 1.947668, 1.966586, 1.982901, 1.990295, 1.990836, 1.990613, 1.989049, 1.985974, 1.981193, 1.974356, 1.964988, 1.404956, 1.440458, 1.472932, 1.501013, 1.523157, 1.538014, 1.544797, 1.545275, 1.542304, 1.538514, 1.536482, 1.527198, 1.505531, 1.479998, 1.458974, 1.450884, 1.459231, 1.47809, 1.501923, 1.525189, 1.542304, 1.554373, 1.565849, 1.576682, 1.586866, 1.596388, 1.605377, 1.613586, 1.35291, 1.392997, 1.430158, 1.462686, 1.488673, 1.50631, 1.519423, 1.532104, 1.543012, 1.550707, 1.553826, 1.543209, 1.517321, 1.486347, 1.460324, 1.449451, 1.453958, 1.464827, 1.478267, 1.490525, 1.497867, 1.501284, 1.504314, 1.506864, 1.508926, 1.510434, 1.511465, 1.511935, 1.709916, 1.71456, 1.721153, 1.729197, 1.738368, 1.748054, 1.768456, 1.803538, 1.843518, 1.878918, 1.899831, 1.909184, 1.917046, 1.923677, 1.929279, 1.934075, 1.939117, 1.945237, 1.950768, 1.954449, 1.954838, 1.950263, 1.940299, 1.925424, 1.906362, 1.883372, 1.855808, 1.824065, 2.116246, 2.140919, 2.160472, 2.175183, 2.184191, 2.187244, 2.182981, 2.172171, 2.159798, 2.149846, 2.147462, 2.149821, 2.151784, 2.155136, 2.1614, 2.172453, 2.194162, 2.226008, 2.260461, 2.289489, 2.305255, 2.311377, 2.316501, 2.31999, 2.321124, 2.319493, 2.314679, 2.305889, 1.971491, 1.987932, 2.002963, 2.015914, 2.026203, 2.03326, 2.038248, 2.043005, 2.047452, 2.051809, 2.055898, 2.063129, 2.074778, 2.087632, 2.098304, 2.10323, 2.102258, 2.098828, 2.094493, 2.090843, 2.089381, 2.089806, 2.090928, 2.092818, 2.095492, 2.098918, 2.103189, 2.108371, 0.739112, 0.739764, 0.7399, 0.739829, 0.739903, 0.740326, 0.740755, 0.740708, 0.740434, 0.740016, 0.739407, 0.737993, 0.736535, 0.73564, 0.735749, 0.736186, 0.73677, 0.738238, 0.740531, 0.743088, 0.744554, 0.743792, 0.741081, 0.73805, 0.734987, 0.732159, 0.728528, 0.723558, 1.332978, 1.334773, 1.336626, 1.338421, 1.339898, 1.340903, 1.341946, 1.343451, 1.345195, 1.346943, 1.348469, 1.350384, 1.353297, 1.357056, 1.361401, 1.366085, 1.374879, 1.389282, 1.405777, 1.420734, 1.430745, 1.437029, 1.443101, 1.448701, 1.453608, 1.457626, 1.460576, 1.462198, 1.525819, 1.532804, 1.539493, 1.545752, 1.551279, 1.55579, 1.560623, 1.56657, 1.572401, 1.577025, 1.57927, 1.57895, 1.577273, 1.57524, 1.573837, 1.573832, 1.576808, 1.582422, 1.588849, 1.594169, 1.596516, 1.596336, 1.5954, 1.593676, 1.591075, 1.587563, 1.583089, 1.57764, 4.795118, 4.889664, 4.977548, 5.054909, 5.117567, 5.161239, 5.195849, 5.231324, 5.263432, 5.288012, 5.301741, 5.309297, 5.317841, 5.326972, 5.336839, 5.346677, 5.365402, 5.39758, 5.432642, 5.461357, 5.474668, 5.473536, 5.467508, 5.45542, 5.436959, 5.412366, 5.38101, 5.342888, 1.387457, 1.403034, 1.417717, 1.430756, 1.441613, 1.449455, 1.456045, 1.463345, 1.470558, 1.476885, 1.481386, 1.482057, 1.478824, 1.473649, 1.468771, 1.466283, 1.463475, 1.457719, 1.451158, 1.446052, 1.444568, 1.445937, 1.447709, 1.450025, 1.452881, 1.456476, 1.460782, 1.465639, 1.542925, 1.57284, 1.60076, 1.62603, 1.64789, 1.665614, 1.68071, 1.694776, 1.707136, 1.717437, 1.725228, 1.731999, 1.738945, 1.745245, 1.750191, 1.752975, 1.753858, 1.754046, 1.753954, 1.753958, 1.754348, 1.755635, 1.758207, 1.761766, 1.766266, 1.771524, 1.777433, 1.784013, 0.960684, 0.962702, 0.964807, 0.967021, 0.969307, 0.971675, 0.974566, 0.97809, 0.981639, 0.984533, 0.986207, 0.98689, 0.987262, 0.987438, 0.987543, 0.987735, 0.988204, 0.988816, 0.989442, 0.989957, 0.990274, 0.990419, 0.990418, 0.990294, 0.990069, 0.989687, 0.989202, 0.988584, 1.481354, 1.482467, 1.483371, 1.483952, 1.48419, 1.484173, 1.483465, 1.482036, 1.480397, 1.478946, 1.478078, 1.477495, 1.476702, 1.476024, 1.475825, 1.476687, 1.482431, 1.494215, 1.507862, 1.519329, 1.52453, 1.52491, 1.524693, 1.523584, 1.521451, 1.51812, 1.513314, 1.506917, 1.982037, 1.985548, 1.989221, 1.992653, 1.995971, 1.999029, 2.002375, 2.006502, 2.011424, 2.017253, 2.023946, 2.047496, 2.094366, 2.150462, 2.201474, 2.233123, 2.249785, 2.265537, 2.280087, 2.293304, 2.304857, 2.315608, 2.326328, 2.33687, 2.347144, 2.356853, 2.366019, 2.374373, 1.770171, 1.76595, 1.761139, 1.756208, 1.751136, 1.745987, 1.739389, 1.730468, 1.720124, 1.709092, 1.698231, 1.685184, 1.668941, 1.652474, 1.638632, 1.630244, 1.626788, 1.625202, 1.624688, 1.624242, 1.622895, 1.620643, 1.6181, 1.615284, 1.61222, 1.608975, 1.605515, 1.601923, 2.820773, 2.824723, 2.82637, 2.826895, 2.826359, 2.826793, 2.821358, 2.80533, 2.786281, 2.7714, 2.766237, 2.767124, 2.767673, 2.768025, 2.768946, 2.771279, 2.781375, 2.801711, 2.825278, 2.84443, 2.852099, 2.851393, 2.850138, 2.848304, 2.845401, 2.84123, 2.835715, 2.828633, 1.614575, 1.614596, 1.614195, 1.613685, 1.613169, 1.612691, 1.611958, 1.610937, 1.609729, 1.608247, 1.606449, 1.602491, 1.59681, 1.591147, 1.58716, 1.586557, 1.591039, 1.599807, 1.610139, 1.619039, 1.623559, 1.624637, 1.625213, 1.625042, 1.624077, 1.62203, 1.618811, 1.614339, 2.416659, 2.422741, 2.433288, 2.447223, 2.463527, 2.481157, 2.513058, 2.564113, 2.621187, 2.670994, 2.700238, 2.707953, 2.705432, 2.697842, 2.690265, 2.687807, 2.691151, 2.696485, 2.702302, 2.706941, 2.708814, 2.70827, 2.706707, 2.70413, 2.700511, 2.695875, 2.690277, 2.683581, 0.771017, 0.770862, 0.77043, 0.769584, 0.768343, 0.766785, 0.76518, 0.763607, 0.762069, 0.760646, 0.75944, 0.758491, 0.757716, 0.757351, 0.757469, 0.758107, 0.759901, 0.762688, 0.766046, 0.769447, 0.7723, 0.774864, 0.777644, 0.780455, 0.783274, 0.786194, 0.789027, 0.791919, 1.874531, 1.873761, 1.871572, 1.868211, 1.864116, 1.859693, 1.848767, 1.82884, 1.806055, 1.786741, 1.777034, 1.774641, 1.773001, 1.772167, 1.771984, 1.772424, 1.779412, 1.795127, 1.813887, 1.830034, 1.83755, 1.838541, 1.838604, 1.837604, 1.835404, 1.832053, 1.82731, 1.820826, 0.965808, 0.965274, 0.965118, 0.96526, 0.965615, 0.966144, 0.967454, 0.969832, 0.972629, 0.975206, 0.976938, 0.977873, 0.978681, 0.979404, 0.980092, 0.980768, 0.98173, 0.983172, 0.984824, 0.986428, 0.987696, 0.988848, 0.990298, 0.992027, 0.994058, 0.996358, 0.998971, 1.001796, 1.654599, 1.653825, 1.651904, 1.649963, 1.647757, 1.644711, 1.639743, 1.632038, 1.622953, 1.613993, 1.606798, 1.599645, 1.590956, 1.582377, 1.575685, 1.572883, 1.573784, 1.576042, 1.578752, 1.581031, 1.5822, 1.582077, 1.581317, 1.580005, 1.578071, 1.575593, 1.572661, 1.569309, 0.807471, 0.809215, 0.810722, 0.811948, 0.812903, 0.81356, 0.813649, 0.813158, 0.812403, 0.811728, 0.811437, 0.811316, 0.811126, 0.811116, 0.811468, 0.812374, 0.81465, 0.818463, 0.822863, 0.826915, 0.829674, 0.831558, 0.833573, 0.835675, 0.837808, 0.839945, 0.842034, 0.844038, 0.996544, 0.999791, 1.003103, 1.006376, 1.009538, 1.012475, 1.015964, 1.020329, 1.024774, 1.028461, 1.030575, 1.031097, 1.030816, 1.030096, 1.029282, 1.028811, 1.029088, 1.030034, 1.031284, 1.032276, 1.032368, 1.031696, 1.030881, 1.029898, 1.028729, 1.027423, 1.025916, 1.024227, 1.52905, 1.51866, 1.510788, 1.505524, 1.502866, 1.50293, 1.50824, 1.51893, 1.531818, 1.543612, 1.551039, 1.555572, 1.560563, 1.565579, 1.570141, 1.573773, 1.576909, 1.580035, 1.58323, 1.586395, 1.589404, 1.59254, 1.59601, 1.599727, 1.603801, 1.608215, 1.612934, 1.617937, 0.913584, 0.917237, 0.920889, 0.924454, 0.927887, 0.931145, 0.934792, 0.939173, 0.943765, 0.948084, 0.95164, 0.954773, 0.9581, 0.96156, 0.965097, 0.968535, 0.973353, 0.980066, 0.987235, 0.993497, 0.997388, 0.999625, 1.001682, 1.003509, 1.005064, 1.006284, 1.007183, 1.00767, 1.638, 1.643247, 1.647712, 1.651439, 1.654505, 1.656928, 1.658346, 1.65879, 1.658504, 1.657684, 1.656587, 1.654634, 1.651742, 1.648704, 1.64635, 1.645534, 1.648063, 1.653751, 1.660522, 1.666258, 1.668259, 1.667971, 1.668059, 1.667839, 1.667218, 1.666139, 1.664501, 1.662187, 1.484759, 1.485381, 1.485311, 1.48479, 1.484013, 1.483086, 1.480741, 1.476222, 1.470554, 1.464783, 1.459923, 1.454861, 1.448512, 1.441961, 1.436346, 1.432797, 1.431042, 1.429854, 1.429073, 1.428484, 1.427891, 1.426909, 1.425285, 1.422854, 1.419621, 1.415987, 1.41206, 1.407712, 2.372268, 2.363253, 2.359692, 2.359906, 2.362073, 2.364688, 2.372037, 2.387784, 2.408076, 2.429235, 2.447628, 2.461467, 2.47386, 2.48583, 2.498004, 2.510479, 2.524395, 2.539119, 2.552112, 2.560396, 2.560337, 2.553113, 2.542247, 2.527482, 2.508672, 2.485238, 2.456701, 2.422853, 2.001113, 2.011886, 2.018926, 2.022815, 2.024912, 2.02442, 2.017047, 2.002852, 1.986392, 1.97182, 1.964562, 1.966058, 1.972156, 1.980297, 1.987956, 1.9923, 1.996538, 2.003986, 2.011477, 2.017753, 2.020857, 2.021551, 2.022511, 2.023334, 2.023712, 2.02369, 2.023013, 2.021229, 3.651053, 3.673429, 3.697444, 3.722396, 3.741281, 3.754112, 3.771539, 3.798785, 3.828926, 3.850095, 3.853104, 3.834546, 3.802521, 3.766008, 3.732531, 3.711376, 3.717046, 3.748724, 3.789921, 3.821196, 3.825429, 3.807216, 3.782069, 3.748382, 3.704062, 3.648088, 3.580414, 3.500378, 1.743822, 1.729394, 1.717904, 1.709529, 1.70446, 1.703017, 1.706918, 1.71545, 1.725288, 1.733362, 1.736715, 1.73326, 1.725162, 1.715624, 1.707889, 1.705252, 1.710942, 1.723217, 1.737831, 1.750515, 1.757065, 1.759015, 1.760677, 1.762034, 1.76297, 1.763385, 1.763155, 1.762195, 1.442868, 1.439741, 1.436093, 1.43206, 1.427809, 1.423521, 1.41827, 1.411263, 1.403337, 1.395292, 1.387796, 1.379322, 1.368957, 1.358771, 1.350859, 1.347282, 1.347869, 1.35012, 1.353122, 1.355932, 1.357531, 1.358288, 1.358965, 1.359519, 1.359986, 1.360349, 1.360681, 1.360875, 0.898728, 0.901201, 0.903722, 0.906229, 0.908669, 0.910912, 0.913275, 0.915928, 0.918635, 0.92113, 0.923151, 0.924808, 0.926417, 0.927951, 0.929386, 0.930722, 0.932704, 0.935683, 0.938903, 0.941573, 0.942997, 0.94349, 0.943893, 0.944175, 0.944296, 0.944222, 0.943932, 0.943401, 2.204169, 2.221128, 2.241898, 2.265665, 2.291569, 2.318594, 2.363795, 2.432906, 2.507668, 2.569807, 2.600849, 2.607819, 2.610887, 2.610772, 2.607967, 2.603207, 2.585168, 2.549869, 2.508826, 2.47353, 2.455431, 2.450119, 2.445716, 2.442651, 2.441051, 2.441463, 2.444073, 2.44947, 0.981807, 1.006175, 1.030312, 1.052846, 1.072373, 1.087232, 1.102868, 1.122993, 1.143544, 1.160306, 1.168854, 1.168667, 1.164187, 1.15841, 1.154195, 1.15423, 1.162915, 1.179535, 1.19907, 1.216365, 1.226153, 1.229909, 1.232654, 1.234203, 1.234218, 1.23219, 1.227793, 1.220903, 1.409241, 1.425829, 1.443448, 1.461915, 1.480987, 1.500452, 1.524376, 1.5534, 1.582081, 1.604951, 1.616765, 1.617726, 1.613577, 1.6076, 1.602937, 1.602384, 1.618504, 1.653701, 1.695588, 1.731433, 1.74852, 1.751944, 1.755161, 1.7579, 1.759881, 1.760847, 1.760478, 1.758512, 1.493624, 1.493965, 1.493989, 1.493813, 1.49364, 1.493584, 1.492278, 1.489149, 1.485331, 1.481912, 1.479875, 1.478493, 1.477203, 1.476374, 1.476322, 1.47722, 1.480851, 1.487351, 1.494747, 1.501032, 1.504219, 1.50532, 1.506415, 1.507554, 1.508562, 1.509387, 1.509917, 1.509998, 1.585379, 1.588283, 1.589919, 1.590477, 1.590329, 1.58972, 1.585519, 1.575339, 1.56178, 1.547772, 1.535302, 1.522775, 1.50836, 1.494, 1.48174, 1.473606, 1.468798, 1.465012, 1.462168, 1.460145, 1.458803, 1.457627, 1.456265, 1.454756, 1.453202, 1.45165, 1.450176, 1.44879, 1.402713, 1.403366, 1.404308, 1.405625, 1.407366, 1.409576, 1.412444, 1.415829, 1.41924, 1.422175, 1.424281, 1.425542, 1.42646, 1.427217, 1.428057, 1.429179, 1.431639, 1.435702, 1.440379, 1.444609, 1.447222, 1.448878, 1.451098, 1.453982, 1.457502, 1.461754, 1.466739, 1.472594, 0.999971, 1.004325, 1.0083, 1.011786, 1.014721, 1.016999, 1.019164, 1.021604, 1.023919, 1.025774, 1.026726, 1.026322, 1.024816, 1.022806, 1.020961, 1.019773, 1.019676, 1.020389, 1.021322, 1.021907, 1.021469, 1.020245, 1.018881, 1.017382, 1.015745, 1.013954, 1.012047, 1.009974, 2.036838, 2.032308, 2.027055, 2.021428, 2.015716, 2.010082, 1.995769, 1.970137, 1.941991, 1.92017, 1.913563, 1.925441, 1.949005, 1.977219, 2.003226, 2.020115, 2.033551, 2.051808, 2.070469, 2.085341, 2.092609, 2.0944, 2.095719, 2.096025, 2.094955, 2.092207, 2.08746, 2.080532, 1.530171, 1.542445, 1.554654, 1.566299, 1.576838, 1.585755, 1.594654, 1.604791, 1.615054, 1.62449, 1.632071, 1.638498, 1.645046, 1.65147, 1.657634, 1.663283, 1.671258, 1.68297, 1.695704, 1.706818, 1.713641, 1.717483, 1.721256, 1.724807, 1.728006, 1.730818, 1.733105, 1.734783, 1.052331, 1.051748, 1.051669, 1.051757, 1.05205, 1.052486, 1.053919, 1.056706, 1.059906, 1.06261, 1.063982, 1.064237, 1.064236, 1.064308, 1.064651, 1.065441, 1.07077, 1.081861, 1.094935, 1.106114, 1.111439, 1.112423, 1.113191, 1.113681, 1.11375, 1.113303, 1.112195, 1.110354, 1.856324, 1.86352, 1.869898, 1.8755, 1.880429, 1.884835, 1.886854, 1.886068, 1.884987, 1.88601, 1.891537, 1.909667, 1.941127, 1.978027, 2.012186, 2.035478, 2.054482, 2.078115, 2.101904, 2.120999, 2.13104, 2.134149, 2.135204, 2.133916, 2.129813, 2.122513, 2.111766, 2.097172, 1.412835, 1.40946, 1.405544, 1.401262, 1.396759, 1.392083, 1.386523, 1.379282, 1.371269, 1.363219, 1.355702, 1.347405, 1.33733, 1.327543, 1.320133, 1.317042, 1.318354, 1.321439, 1.325263, 1.328796, 1.330846, 1.332125, 1.33349, 1.334917, 1.336417, 1.337892, 1.339501, 1.341113, 1.491188, 1.507171, 1.52458, 1.542742, 1.561136, 1.579173, 1.600332, 1.626274, 1.653641, 1.678815, 1.69876, 1.715313, 1.731692, 1.747133, 1.760125, 1.769821, 1.778207, 1.78679, 1.794328, 1.798877, 1.798737, 1.79494, 1.789299, 1.781913, 1.772537, 1.760998, 1.747206, 1.730723, 1.600849, 1.604639, 1.607037, 1.609145, 1.610578, 1.611371, 1.610904, 1.609218, 1.606491, 1.603527, 1.60107, 1.597838, 1.592936, 1.587377, 1.582373, 1.579281, 1.579177, 1.581225, 1.584239, 1.586907, 1.588015, 1.588125, 1.588531, 1.589182, 1.590056, 1.591044, 1.591806, 1.592237, 1.780044, 1.804352, 1.828213, 1.849983, 1.868433, 1.882208, 1.89296, 1.903385, 1.913213, 1.922458, 1.931051, 1.942612, 1.958461, 1.975173, 1.989286, 1.997366, 2.000655, 2.003234, 2.005674, 2.008506, 2.012315, 2.018154, 2.026716, 2.037774, 2.051002, 2.066019, 2.082638, 2.100689, 1.588099, 1.58868, 1.589425, 1.590376, 1.591703, 1.593261, 1.594008, 1.593388, 1.591725, 1.58933, 1.586774, 1.582403, 1.575602, 1.568248, 1.562355, 1.560061, 1.562391, 1.567708, 1.574141, 1.579646, 1.582293, 1.582718, 1.582873, 1.582674, 1.581937, 1.580684, 1.578866, 1.576405, 0.998621, 1.022249, 1.045649, 1.067473, 1.086421, 1.100892, 1.11617, 1.135799, 1.155808, 1.172158, 1.180549, 1.180573, 1.176599, 1.171422, 1.167746, 1.168094, 1.176792, 1.193278, 1.212634, 1.229806, 1.239633, 1.243576, 1.246598, 1.248496, 1.24894, 1.247432, 1.243633, 1.237431, 4.88242, 4.927785, 4.973503, 5.016793, 5.055304, 5.087411, 5.130872, 5.192075, 5.254047, 5.300138, 5.314026, 5.284729, 5.225139, 5.153224, 5.088148, 5.04952, 5.061528, 5.117585, 5.187565, 5.242516, 5.253996, 5.227939, 5.188779, 5.133392, 5.060647, 4.969887, 4.860104, 4.72986, 1.545892, 1.548529, 1.551207, 1.546961, 1.542343, 1.544211, 1.547466, 1.55, 1.549402, 1.548061, 1.54679, 1.545639, 1.544567, 1.543762, 1.543151, 1.543347, 1.550365, 1.566098, 1.584677, 1.600459, 1.607956, 1.6092, 1.610288, 1.611266, 1.611974, 1.612461, 1.612753, 1.612554, 2.000672, 1.981093, 1.962545, 1.945942, 1.931684, 1.920328, 1.910478, 1.900401, 1.890466, 1.880847, 1.871933, 1.862297, 1.851213, 1.840512, 1.831493, 1.824945, 1.820584, 1.817016, 1.813414, 1.809111, 1.803276, 1.79532, 1.785087, 1.772735, 1.75853, 1.742634, 1.725335, 1.706748, 0.632597, 0.628133, 0.624314, 0.621338, 0.619446, 0.61883, 0.619534, 0.621045, 0.622859, 0.624448, 0.625276, 0.625296, 0.624962, 0.624546, 0.624336, 0.624594, 0.628724, 0.6378, 0.648577, 0.657795, 0.662176, 0.663065, 0.663934, 0.664725, 0.665289, 0.665532, 0.665345, 0.664616, 3.222535, 3.224773, 3.225143, 3.223386, 3.219543, 3.213592, 3.20531, 3.194417, 3.180736, 3.165348, 3.148919, 3.119571, 3.072536, 3.017311, 2.963208, 2.920276, 2.887121, 2.856143, 2.827514, 2.801696, 2.779135, 2.758677, 2.738557, 2.718957, 2.700236, 2.682717, 2.66758, 2.65543, 1.381953, 1.407681, 1.431018, 1.45146, 1.468579, 1.481946, 1.491971, 1.500681, 1.509602, 1.520326, 1.534372, 1.553516, 1.577346, 1.604115, 1.631907, 1.658603, 1.688673, 1.724111, 1.759089, 1.787437, 1.80294, 1.808946, 1.812881, 1.814613, 1.813804, 1.810039, 1.802944, 1.79212, 1.469523, 1.463484, 1.457981, 1.453198, 1.44928, 1.446308, 1.444563, 1.443676, 1.443393, 1.44345, 1.443389, 1.442885, 1.441851, 1.440916, 1.440643, 1.441787, 1.444679, 1.448437, 1.452614, 1.45682, 1.460597, 1.464216, 1.467655, 1.470868, 1.473784, 1.476384, 1.47877, 1.480769, 1.708259, 1.726115, 1.746061, 1.764231, 1.77947, 1.790865, 1.800339, 1.809861, 1.818396, 1.823214, 1.824904, 1.824116, 1.819928, 1.813484, 1.8062, 1.799854, 1.793705, 1.786537, 1.779021, 1.771846, 1.765928, 1.760792, 1.755663, 1.750575, 1.745641, 1.740921, 1.736561, 1.732617, 4.561719, 4.650197, 4.732294, 4.804268, 4.863354, 4.906952, 4.94461, 4.984037, 5.019664, 5.047094, 5.060739, 5.051535, 5.022471, 4.985187, 4.951529, 4.933496, 4.939028, 4.9616, 4.990515, 5.015085, 5.024749, 5.015845, 4.99375, 4.958878, 4.912332, 4.855356, 4.788716, 4.713617, 1.649908, 1.648493, 1.64687, 1.645337, 1.644003, 1.643033, 1.642171, 1.641413, 1.640465, 1.638953, 1.636639, 1.632652, 1.627297, 1.621838, 1.617698, 1.616462, 1.641355, 1.700372, 1.77121, 1.831376, 1.858265, 1.860681, 1.862809, 1.864515, 1.865668, 1.865996, 1.865476, 1.863893, 1.043184, 1.041739, 1.040671, 1.040047, 1.039793, 1.039871, 1.040542, 1.041835, 1.043387, 1.044833, 1.045721, 1.045939, 1.045809, 1.045707, 1.046009, 1.047078, 1.052755, 1.064304, 1.077975, 1.090014, 1.096491, 1.098757, 1.100855, 1.10279, 1.104453, 1.105823, 1.106866, 1.107545, 2.219397, 2.315479, 2.406339, 2.489465, 2.56213, 2.622415, 2.677664, 2.733953, 2.786062, 2.828231, 2.855875, 2.869149, 2.873867, 2.87308, 2.869444, 2.866131, 2.862381, 2.855894, 2.847781, 2.839515, 2.831877, 2.820935, 2.802232, 2.776273, 2.743361, 2.70387, 2.657734, 2.605061, 1.397252, 1.388861, 1.382412, 1.377867, 1.375352, 1.374704, 1.377426, 1.383628, 1.391317, 1.39872, 1.403921, 1.408721, 1.415662, 1.424034, 1.433206, 1.442389, 1.45407, 1.469029, 1.483707, 1.494495, 1.497855, 1.495237, 1.490233, 1.482519, 1.471849, 1.457863, 1.440362, 1.418958, 1.605847, 1.607192, 1.607241, 1.60628, 1.604495, 1.602198, 1.598732, 1.592857, 1.585433, 1.57719, 1.569008, 1.559967, 1.548727, 1.536905, 1.52599, 1.517457, 1.51133, 1.505698, 1.500762, 1.496413, 1.49284, 1.489868, 1.486481, 1.482777, 1.478718, 1.474538, 1.470468, 1.466265, 0.911168, 0.911587, 0.912134, 0.912794, 0.91354, 0.914393, 0.915714, 0.917559, 0.919567, 0.921324, 0.922455, 0.923202, 0.924049, 0.924956, 0.925842, 0.926578, 0.928459, 0.932206, 0.93657, 0.940305, 0.942122, 0.942538, 0.942944, 0.943303, 0.943531, 0.943623, 0.943562, 0.943238, 2.067237, 2.037677, 2.008119, 1.980609, 1.956704, 1.938496, 1.919059, 1.893981, 1.868791, 1.848883, 1.840105, 1.841656, 1.847939, 1.85747, 1.868278, 1.8791, 1.900684, 1.93751, 1.978996, 2.014391, 2.033003, 2.040247, 2.047773, 2.055383, 2.062926, 2.070307, 2.077194, 2.083073, 2.142499, 2.144217, 2.146702, 2.149036, 2.150613, 2.151015, 2.153615, 2.159982, 2.16656, 2.169942, 2.16654, 2.141658, 2.093558, 2.038043, 1.991043, 1.968473, 1.976898, 2.004104, 2.037797, 2.065072, 2.07312, 2.062087, 2.042078, 2.012938, 1.974528, 1.927178, 1.874791, 1.806475, 0.952743, 0.953195, 0.953932, 0.954857, 0.955868, 0.956877, 0.958787, 0.962062, 0.965922, 0.969573, 0.972235, 0.974243, 0.976363, 0.978416, 0.980217, 0.981616, 0.983429, 0.986165, 0.989201, 0.991912, 0.993748, 0.995103, 0.996753, 0.998674, 1.000832, 1.003159, 1.005638, 1.008257, 1.045123, 1.047666, 1.050586, 1.053628, 1.05654, 1.059136, 1.06232, 1.066425, 1.070769, 1.074382, 1.076459, 1.077283, 1.077748, 1.078191, 1.078711, 1.07953, 1.086132, 1.100345, 1.116942, 1.130703, 1.136287, 1.136072, 1.135864, 1.135179, 1.133881, 1.131753, 1.128556, 1.124257, 3.392097, 3.409883, 3.429578, 3.450729, 3.471894, 3.489129, 3.505568, 3.526801, 3.548203, 3.567977, 3.580305, 3.583863, 3.583117, 3.580078, 3.569952, 3.557403, 3.534546, 3.50234, 3.466157, 3.427518, 3.391637, 3.353504, 3.313886, 3.271046, 3.227167, 3.18089, 3.134969, 3.086688, 1.615005, 1.622308, 1.628591, 1.633989, 1.638425, 1.641858, 1.64368, 1.643887, 1.64345, 1.643171, 1.644032, 1.646062, 1.648756, 1.652067, 1.656004, 1.660599, 1.667693, 1.677781, 1.689027, 1.699565, 1.70743, 1.713354, 1.719291, 1.725146, 1.730807, 1.736153, 1.741054, 1.745439, 1.221391, 1.222893, 1.223759, 1.223892, 1.223267, 1.221955, 1.220368, 1.21871, 1.216991, 1.215454, 1.214235, 1.214632, 1.217012, 1.220417, 1.224092, 1.227344, 1.230339, 1.23426, 1.238505, 1.242718, 1.246381, 1.249598, 1.253329, 1.257481, 1.261902, 1.266547, 1.271352, 1.276184, 3.375219, 3.365116, 3.350951, 3.33331, 3.312988, 3.291172, 3.259755, 3.2141, 3.160249, 3.104749, 3.054103, 2.999772, 2.936396, 2.873611, 2.820846, 2.787891, 2.769829, 2.755606, 2.744363, 2.734925, 2.726701, 2.717977, 2.707824, 2.696392, 2.683841, 2.670481, 2.656497, 2.642026, 0.90412, 0.904839, 0.905734, 0.906745, 0.907845, 0.908974, 0.910477, 0.912552, 0.914819, 0.916897, 0.918353, 0.919529, 0.920794, 0.922067, 0.923177, 0.924007, 0.925647, 0.928362, 0.931447, 0.934195, 0.935873, 0.936966, 0.938218, 0.939625, 0.941168, 0.942849, 0.944475, 0.946133, 0.982003, 0.982656, 0.983352, 0.984075, 0.984797, 0.985525, 0.986481, 0.987678, 0.988748, 0.989437, 0.989482, 0.988717, 0.987484, 0.986105, 0.98483, 0.983821, 0.983323, 0.983407, 0.983762, 0.984091, 0.984069, 0.983722, 0.983317, 0.982789, 0.982175, 0.981464, 0.980685, 0.979754, 1.804892, 1.826493, 1.847594, 1.867695, 1.88624, 1.902588, 1.91793, 1.933601, 1.948986, 1.963466, 1.976366, 1.988918, 2.001931, 2.014028, 2.02392, 2.03033, 2.034423, 2.038168, 2.041377, 2.043699, 2.044674, 2.045249, 2.046659, 2.048957, 2.052116, 2.055865, 2.060072, 2.064557, 1.706193, 1.699914, 1.694099, 1.688685, 1.683958, 1.680037, 1.676891, 1.674531, 1.672581, 1.670636, 1.668318, 1.665086, 1.661224, 1.657412, 1.654364, 1.652821, 1.654117, 1.657964, 1.662709, 1.666707, 1.665552, 1.662479, 1.661734, 1.660487, 1.658685, 1.656284, 1.653282, 1.649577, 1.557669, 1.554681, 1.551486, 1.548341, 1.545733, 1.543771, 1.543013, 1.544051, 1.546226, 1.549088, 1.552089, 1.55458, 1.556534, 1.558301, 1.560227, 1.562854, 1.566348, 1.570007, 1.573604, 1.576814, 1.579348, 1.581327, 1.583437, 1.585374, 1.586836, 1.58747, 1.587746, 1.58634, 1.540008, 1.539089, 1.538303, 1.53768, 1.537385, 1.537252, 1.538349, 1.541931, 1.546915, 1.552436, 1.557661, 1.561913, 1.565454, 1.568622, 1.571771, 1.575509, 1.577573, 1.576267, 1.573433, 1.570996, 1.571166, 1.573049, 1.574767, 1.57614, 1.576978, 1.577082, 1.576936, 1.575279, 0.959272, 0.969009, 0.975755, 0.980822, 0.984671, 0.987045, 0.987934, 0.987678, 0.987561, 0.988591, 0.991143, 0.997316, 1.006044, 1.015844, 1.023967, 1.028395, 1.028259, 1.024415, 1.02003, 1.016881, 1.017191, 1.020412, 1.024512, 1.029643, 1.034954, 1.040364, 1.045482, 1.050259, 2.020416, 2.028514, 2.038612, 2.046304, 2.048785, 2.046297, 2.04686, 2.055691, 2.066196, 2.071221, 2.065237, 2.045852, 2.018559, 1.988732, 1.961606, 1.942521, 1.937393, 1.943095, 1.952619, 1.957931, 1.954365, 1.942049, 1.92712, 1.909803, 1.889729, 1.8659, 1.838081, 1.80594, 1.707227, 1.718147, 1.728449, 1.737534, 1.744698, 1.749587, 1.753554, 1.757973, 1.761707, 1.764526, 1.766204, 1.766171, 1.765293, 1.763991, 1.762721, 1.761856, 1.761909, 1.762798, 1.764129, 1.765344, 1.765862, 1.765912, 1.765882, 1.765952, 1.766275, 1.766644, 1.767381, 1.768607, 2.431157, 2.469051, 2.497066, 2.516173, 2.527159, 2.531127, 2.517999, 2.484446, 2.441802, 2.401402, 2.374936, 2.355117, 2.329651, 2.303453, 2.281156, 2.267669, 2.257506, 2.243461, 2.227769, 2.212293, 2.199166, 2.187616, 2.175251, 2.16241, 2.149119, 2.135476, 2.121472, 2.107394, 1.17511, 1.169433, 1.165285, 1.16189, 1.16029, 1.159994, 1.161527, 1.166283, 1.171648, 1.176285, 1.179112, 1.17961, 1.180166, 1.181182, 1.182503, 1.18587, 1.191376, 1.198786, 1.205389, 1.208499, 1.209134, 1.210316, 1.213379, 1.218249, 1.224274, 1.231484, 1.240083, 1.249029, 1.372084, 1.387638, 1.403009, 1.41687, 1.42781, 1.434582, 1.445345, 1.464851, 1.486882, 1.505249, 1.513665, 1.512145, 1.506253, 1.497945, 1.489245, 1.482164, 1.451934, 1.386798, 1.308256, 1.237784, 1.196834, 1.178418, 1.161647, 1.147224, 1.135894, 1.128306, 1.125008, 1.126607, 0.588248, 0.581142, 0.574945, 0.570064, 0.566927, 0.565957, 0.56679, 0.568458, 0.570494, 0.572424, 0.57376, 0.574638, 0.575525, 0.5765, 0.577599, 0.578851, 0.58625, 0.601993, 0.620544, 0.636352, 0.643859, 0.645342, 0.646696, 0.647894, 0.648908, 0.649699, 0.650252, 0.650506, 0.694183, 0.703097, 0.710491, 0.716189, 0.719972, 0.721579, 0.72119, 0.719422, 0.71657, 0.712962, 0.70897, 0.701684, 0.689574, 0.674924, 0.660189, 0.647804, 0.636306, 0.623763, 0.611757, 0.601848, 0.595602, 0.591843, 0.588476, 0.585557, 0.583151, 0.581339, 0.580181, 0.579778, 0.640792, 0.641674, 0.64249, 0.643343, 0.64409, 0.644686, 0.645334, 0.646212, 0.647138, 0.647933, 0.648438, 0.648473, 0.648172, 0.647739, 0.647359, 0.647267, 0.64811, 0.650013, 0.652285, 0.654177, 0.654951, 0.654867, 0.654695, 0.654428, 0.654013, 0.653408, 0.652618, 0.651614, 1.695087, 1.7197, 1.743069, 1.764858, 1.784501, 1.801893, 1.817444, 1.832005, 1.845547, 1.857496, 1.868417, 1.877489, 1.885675, 1.894388, 1.904537, 1.916862, 1.948764, 2.004678, 2.066202, 2.115312, 2.133863, 2.131855, 2.13032, 2.12911, 2.127247, 2.123721, 2.118275, 2.109848, 0.547416, 0.547293, 0.547255, 0.547353, 0.547462, 0.547461, 0.547629, 0.548053, 0.548534, 0.548768, 0.54849, 0.547597, 0.546142, 0.544431, 0.542487, 0.54049, 0.537625, 0.533317, 0.528356, 0.523383, 0.519176, 0.51564, 0.512261, 0.509059, 0.506, 0.503205, 0.500657, 0.498381, 0.458408, 0.454951, 0.451861, 0.449365, 0.447662, 0.44694, 0.447098, 0.447723, 0.448558, 0.44936, 0.4499, 0.450155, 0.450356, 0.45059, 0.450926, 0.451417, 0.453432, 0.457413, 0.461949, 0.465679, 0.46722, 0.467204, 0.467127, 0.466905, 0.46645, 0.465702, 0.464585, 0.462937, 1.369656, 1.368381, 1.367181, 1.366127, 1.365337, 1.364789, 1.364229, 1.363645, 1.363167, 1.363052, 1.363294, 1.363723, 1.364231, 1.365131, 1.366655, 1.368957, 1.378946, 1.3989, 1.421946, 1.441276, 1.45003, 1.450941, 1.451288, 1.450576, 1.448373, 1.444198, 1.437436, 1.427646, 0.552453, 0.554292, 0.556163, 0.557967, 0.559626, 0.561059, 0.562704, 0.564779, 0.566897, 0.568627, 0.569526, 0.568818, 0.566648, 0.563963, 0.561681, 0.560731, 0.561138, 0.562141, 0.563486, 0.564908, 0.56616, 0.567478, 0.569262, 0.571439, 0.573932, 0.57671, 0.579705, 0.58288, 0.63358, 0.63417, 0.634661, 0.635059, 0.635313, 0.635425, 0.63543, 0.635454, 0.635432, 0.635338, 0.635164, 0.634787, 0.634247, 0.633772, 0.633602, 0.633982, 0.636149, 0.640318, 0.64521, 0.649564, 0.652093, 0.653258, 0.654369, 0.655361, 0.656199, 0.656819, 0.657132, 0.657092, 2.620292, 2.51614, 2.439505, 2.387944, 2.358027, 2.347797, 2.38342, 2.474803, 2.59555, 2.718396, 2.817329, 2.896972, 2.978808, 3.060814, 3.140127, 3.215712, 3.301988, 3.402343, 3.498564, 3.571414, 3.602408, 3.603549, 3.598258, 3.583238, 3.55546, 3.512509, 3.451337, 3.369006, 1.220366, 1.226158, 1.231792, 1.237234, 1.242302, 1.246824, 1.251575, 1.256941, 1.262333, 1.26705, 1.270386, 1.27326, 1.276735, 1.280257, 1.283297, 1.285308, 1.283265, 1.276539, 1.267789, 1.259909, 1.255798, 1.254461, 1.25312, 1.25176, 1.250476, 1.249349, 1.248482, 1.247794, 1.035523, 1.033613, 1.031945, 1.030464, 1.029112, 1.027777, 1.026453, 1.025125, 1.023878, 1.022783, 1.021842, 1.020844, 1.019713, 1.018754, 1.018262, 1.018525, 1.022065, 1.029611, 1.038504, 1.046129, 1.049882, 1.050765, 1.051525, 1.052077, 1.052351, 1.052312, 1.051966, 1.051227, 0.664343, 0.664879, 0.66551, 0.66614, 0.666955, 0.667823, 0.668666, 0.669457, 0.670257, 0.671053, 0.67176, 0.672394, 0.672916, 0.673312, 0.673556, 0.673595, 0.674844, 0.677825, 0.681294, 0.683953, 0.6845, 0.683594, 0.682707, 0.681867, 0.681029, 0.680048, 0.678895, 0.677425, 3.197696, 3.237349, 3.269113, 3.293549, 3.309552, 3.317087, 3.317404, 3.311016, 3.30049, 3.286582, 3.27065, 3.239642, 3.18773, 3.129121, 3.07735, 3.045744, 3.032307, 3.023855, 3.018086, 3.012438, 3.003632, 2.987107, 2.961171, 2.926952, 2.885961, 2.839514, 2.788398, 2.733093, 0.925382, 0.929941, 0.933802, 0.936928, 0.939249, 0.940747, 0.941118, 0.94043, 0.939071, 0.937457, 0.935983, 0.934035, 0.931243, 0.928185, 0.925449, 0.92366, 0.922881, 0.922546, 0.92243, 0.922244, 0.921755, 0.921068, 0.92044, 0.919835, 0.919295, 0.918794, 0.918383, 0.918019, 2.007272, 2.003447, 2.002382, 2.003832, 2.007531, 2.013307, 2.026731, 2.049189, 2.074454, 2.09623, 2.108278, 2.109106, 2.103779, 2.095827, 2.0887, 2.085886, 2.089135, 2.096133, 2.104359, 2.111224, 2.114193, 2.11396, 2.112906, 2.111086, 2.108649, 2.105678, 2.10213, 2.097731, 4.580307, 4.636486, 4.682104, 4.715434, 4.735017, 4.739354, 4.727307, 4.702095, 4.669987, 4.637346, 4.610803, 4.57815, 4.530722, 4.480427, 4.438384, 4.415672, 4.416798, 4.432855, 4.456459, 4.479028, 4.492473, 4.496109, 4.493884, 4.486722, 4.474335, 4.457263, 4.435188, 4.408781, 0.648944, 0.648703, 0.648432, 0.648018, 0.647506, 0.646961, 0.646341, 0.645518, 0.64457, 0.643606, 0.642873, 0.642171, 0.641338, 0.640614, 0.640186, 0.640384, 0.642256, 0.645939, 0.650286, 0.654111, 0.65627, 0.657216, 0.658116, 0.658934, 0.659549, 0.659943, 0.660091, 0.659929, 1.600645, 1.6029, 1.605701, 1.608752, 1.611851, 1.614747, 1.619099, 1.62545, 1.63244, 1.638688, 1.642768, 1.644992, 1.646508, 1.647929, 1.649606, 1.651897, 1.656571, 1.66376, 1.671556, 1.677848, 1.680365, 1.679977, 1.678712, 1.676441, 1.673038, 1.668428, 1.662429, 1.654872, 0.950002, 0.945429, 0.941543, 0.93831, 0.935645, 0.933609, 0.931999, 0.931015, 0.930585, 0.930466, 0.930472, 0.930502, 0.930748, 0.931183, 0.931804, 0.932505, 0.934182, 0.937292, 0.940963, 0.94409, 0.945747, 0.946418, 0.94715, 0.947922, 0.948623, 0.949272, 0.949899, 0.950462, 0.691502, 0.69171, 0.691668, 0.691449, 0.690966, 0.690068, 0.688822, 0.687308, 0.685808, 0.684525, 0.683588, 0.682816, 0.682006, 0.68136, 0.681065, 0.681304, 0.682321, 0.683899, 0.685595, 0.686935, 0.687422, 0.686807, 0.685998, 0.685322, 0.684334, 0.683152, 0.681672, 0.680014, 5.084117, 5.076699, 5.064902, 5.050155, 5.034586, 5.019638, 4.998644, 4.966462, 4.927049, 4.884438, 4.843058, 4.772725, 4.662043, 4.542516, 4.445776, 4.403335, 4.413683, 4.445614, 4.486387, 4.523478, 4.543433, 4.547094, 4.544162, 4.534467, 4.51793, 4.494683, 4.464844, 4.428001, 1.334723, 1.343282, 1.35016, 1.353884, 1.356744, 1.359322, 1.362907, 1.368723, 1.374231, 1.378601, 1.379847, 1.377809, 1.373788, 1.369278, 1.365622, 1.363282, 1.354953, 1.336053, 1.312886, 1.292341, 1.280411, 1.27523, 1.270908, 1.26719, 1.264453, 1.263113, 1.26333, 1.265128, 1.322809, 1.329786, 1.336479, 1.343077, 1.348727, 1.352745, 1.359187, 1.37015, 1.382342, 1.392602, 1.397732, 1.39814, 1.396927, 1.394861, 1.39253, 1.390908, 1.382291, 1.362531, 1.338429, 1.316771, 1.30399, 1.297742, 1.291724, 1.286304, 1.281669, 1.277965, 1.275253, 1.273662, 1.436539, 1.43592, 1.435736, 1.435457, 1.43547, 1.435496, 1.43708, 1.44018, 1.44319, 1.445168, 1.445018, 1.439653, 1.429088, 1.416718, 1.40595, 1.400059, 1.396086, 1.391301, 1.387289, 1.383839, 1.381121, 1.378886, 1.375825, 1.372449, 1.368371, 1.363452, 1.358456, 1.353234, 1.716721, 1.720863, 1.72371, 1.725572, 1.726883, 1.728026, 1.725966, 1.719616, 1.711905, 1.706077, 1.705007, 1.712863, 1.728657, 1.748462, 1.768153, 1.783924, 1.800696, 1.823167, 1.846125, 1.864388, 1.872826, 1.874604, 1.876361, 1.877636, 1.87791, 1.876968, 1.874281, 1.869546, 1.526376, 1.527463, 1.527926, 1.52785, 1.527325, 1.526562, 1.524546, 1.520787, 1.516191, 1.511636, 1.508005, 1.50417, 1.499191, 1.494241, 1.490487, 1.489155, 1.491236, 1.495717, 1.501045, 1.505621, 1.507973, 1.508725, 1.509395, 1.509885, 1.510143, 1.510022, 1.509461, 1.508369, 1.531231, 1.543874, 1.555678, 1.566368, 1.57553, 1.583203, 1.589917, 1.595955, 1.60123, 1.605251, 1.607685, 1.609086, 1.610163, 1.611158, 1.611814, 1.61195, 1.612098, 1.612504, 1.612981, 1.613208, 1.612823, 1.611931, 1.610891, 1.609757, 1.608669, 1.607572, 1.606335, 1.604984, 0.685685, 0.692249, 0.698502, 0.70413, 0.708798, 0.712124, 0.715094, 0.718739, 0.722562, 0.725954, 0.728107, 0.720918, 0.701802, 0.678203, 0.657637, 0.64782, 0.646164, 0.644944, 0.644121, 0.643651, 0.643556, 0.64364, 0.643782, 0.643964, 0.644145, 0.644343, 0.644619, 0.644969, 0.720656, 0.721779, 0.723072, 0.724396, 0.725728, 0.726983, 0.728738, 0.731178, 0.733805, 0.736114, 0.737572, 0.738391, 0.739423, 0.740797, 0.74257, 0.744852, 0.750655, 0.761604, 0.774779, 0.787344, 0.796288, 0.802505, 0.808889, 0.81515, 0.821018, 0.826247, 0.830768, 0.834551, 0.885611, 0.884185, 0.883015, 0.882133, 0.881584, 0.881404, 0.881649, 0.882189, 0.882798, 0.883325, 0.883616, 0.883451, 0.882934, 0.882326, 0.881946, 0.8821, 0.884428, 0.889185, 0.894785, 0.899629, 0.902086, 0.90281, 0.903451, 0.904004, 0.904403, 0.904602, 0.904496, 0.90405, 1.04024, 1.039734, 1.039935, 1.040055, 1.041001, 1.042097, 1.04369, 1.04703, 1.050686, 1.053937, 1.055946, 1.056513, 1.056613, 1.05708, 1.057526, 1.058431, 1.064111, 1.074834, 1.087633, 1.098302, 1.103618, 1.105108, 1.1067, 1.107984, 1.108806, 1.109213, 1.10931, 1.109284, 1.168434, 1.170648, 1.172949, 1.175212, 1.177418, 1.179511, 1.181776, 1.184563, 1.187445, 1.190044, 1.191913, 1.193474, 1.195439, 1.197533, 1.199547, 1.201208, 1.203761, 1.207799, 1.212313, 1.216241, 1.218619, 1.219837, 1.221023, 1.222107, 1.22307, 1.223855, 1.224377, 1.224633, 0.918281, 0.917016, 0.915799, 0.914694, 0.913722, 0.912944, 0.912264, 0.911572, 0.910839, 0.910065, 0.909277, 0.907936, 0.905877, 0.903768, 0.902212, 0.901811, 0.904245, 0.909461, 0.91571, 0.921169, 0.924038, 0.925017, 0.926014, 0.926932, 0.927758, 0.928407, 0.928828, 0.928977, 1.32484, 1.319539, 1.313857, 1.307527, 1.30072, 1.293717, 1.283509, 1.268984, 1.252934, 1.238369, 1.228102, 1.221607, 1.216678, 1.213637, 1.212784, 1.214218, 1.222068, 1.237363, 1.255266, 1.271076, 1.28026, 1.284562, 1.288766, 1.292702, 1.296276, 1.299377, 1.301878, 1.303688, 1.769652, 1.737171, 1.710386, 1.689639, 1.675261, 1.6676, 1.668624, 1.677312, 1.689276, 1.700369, 1.706542, 1.705871, 1.701001, 1.694878, 1.690463, 1.690616, 1.695729, 1.703158, 1.711196, 1.718196, 1.72254, 1.724857, 1.726843, 1.728491, 1.729703, 1.730384, 1.730409, 1.729604, 1.134677, 1.13501, 1.135417, 1.135793, 1.136058, 1.136063, 1.136211, 1.136833, 1.137622, 1.138349, 1.138642, 1.138681, 1.138632, 1.138744, 1.139231, 1.140426, 1.144139, 1.150779, 1.1585, 1.165395, 1.16961, 1.171809, 1.17393, 1.175879, 1.177596, 1.178944, 1.179945, 1.18054, 1.12296, 1.136268, 1.14984, 1.162858, 1.174804, 1.184809, 1.19674, 1.212563, 1.228866, 1.242233, 1.249286, 1.250209, 1.24832, 1.245381, 1.243199, 1.243186, 1.245239, 1.247872, 1.250268, 1.251659, 1.251646, 1.250901, 1.250148, 1.249178, 1.24785, 1.246061, 1.243884, 1.241516, 3.908388, 3.875967, 3.843074, 3.812015, 3.784125, 3.76159, 3.735187, 3.700065, 3.664474, 3.636889, 3.62534, 3.628762, 3.639029, 3.654335, 3.672748, 3.692126, 3.731235, 3.798384, 3.875416, 3.94372, 3.984292, 4.004563, 4.024262, 4.042428, 4.057604, 4.068838, 4.074572, 4.074256, 2.07579, 2.109488, 2.144853, 2.180902, 2.216581, 2.251164, 2.290397, 2.339283, 2.396224, 2.458479, 2.524547, 2.60352, 2.700655, 2.807075, 2.913724, 3.011623, 3.114744, 3.230184, 3.339119, 3.421453, 3.457895, 3.464448, 3.470121, 3.475177, 3.478852, 3.480908, 3.480955, 3.478108, 1.761729, 1.761543, 1.760215, 1.757946, 1.75519, 1.75253, 1.745924, 1.734123, 1.72093, 1.710455, 1.706993, 1.713311, 1.72725, 1.744762, 1.762011, 1.775306, 1.788776, 1.806875, 1.825525, 1.840735, 1.848646, 1.851547, 1.854265, 1.856355, 1.857198, 1.856434, 1.853489, 1.848102, 0.556005, 0.555654, 0.555433, 0.55533, 0.555303, 0.555326, 0.555715, 0.556561, 0.557583, 0.558559, 0.559201, 0.559584, 0.55996, 0.560352, 0.560831, 0.561437, 0.562736, 0.564882, 0.56735, 0.569634, 0.571185, 0.572186, 0.573102, 0.573896, 0.574499, 0.574894, 0.575041, 0.574866, 1.587054, 1.590888, 1.594383, 1.597536, 1.600279, 1.602543, 1.604387, 1.606247, 1.608611, 1.611715, 1.61576, 1.622227, 1.63135, 1.641413, 1.65056, 1.656907, 1.661613, 1.6668, 1.67181, 1.676117, 1.679192, 1.681831, 1.685194, 1.68907, 1.693423, 1.698174, 1.703293, 1.708856, 0.833846, 0.837158, 0.84019, 0.842785, 0.844783, 0.846068, 0.847008, 0.848038, 0.848993, 0.849656, 0.849906, 0.849706, 0.849407, 0.849256, 0.849403, 0.849989, 0.852079, 0.856, 0.860446, 0.864287, 0.866461, 0.867275, 0.868095, 0.868909, 0.869608, 0.870134, 0.870418, 0.870378, 1.687376, 1.692962, 1.698177, 1.702849, 1.706703, 1.709455, 1.711598, 1.71405, 1.716365, 1.718074, 1.718676, 1.716387, 1.711495, 1.705568, 1.700356, 1.697481, 1.697759, 1.700077, 1.703024, 1.705268, 1.705422, 1.703349, 1.700065, 1.695615, 1.690151, 1.683855, 1.676714, 1.668762, 1.378908, 1.378393, 1.377972, 1.377539, 1.377004, 1.376291, 1.374965, 1.373048, 1.371073, 1.369594, 1.369167, 1.370138, 1.372167, 1.374929, 1.378021, 1.380974, 1.394047, 1.421332, 1.453426, 1.481138, 1.495462, 1.500172, 1.504983, 1.50978, 1.514497, 1.518993, 1.523243, 1.527133, 0.764667, 0.775719, 0.785731, 0.794211, 0.800726, 0.804867, 0.807625, 0.810089, 0.81184, 0.812405, 0.811355, 0.801701, 0.781248, 0.75705, 0.735926, 0.724737, 0.722001, 0.721191, 0.721772, 0.723056, 0.72447, 0.726827, 0.731221, 0.737441, 0.745301, 0.754582, 0.76508, 0.776602, 1.661746, 1.674564, 1.683077, 1.68813, 1.690505, 1.691259, 1.666973, 1.608131, 1.537126, 1.476471, 1.449029, 1.447156, 1.447662, 1.450309, 1.454776, 1.460839, 1.488421, 1.548077, 1.625692, 1.706981, 1.77714, 1.83697, 1.896684, 1.956453, 2.016153, 2.075727, 2.134993, 2.193405, 1.957769, 1.963526, 1.970483, 1.978518, 1.987539, 1.997262, 2.012599, 2.035039, 2.059017, 2.078913, 2.08906, 2.089099, 2.08435, 2.077652, 2.072019, 2.070265, 2.072191, 2.075246, 2.078399, 2.080608, 2.080863, 2.079141, 2.076338, 2.072441, 2.067551, 2.061747, 2.055006, 2.047305, 0.916499, 0.914643, 0.912944, 0.911465, 0.910267, 0.909397, 0.90884, 0.908459, 0.908113, 0.90753, 0.906559, 0.904912, 0.902668, 0.900456, 0.898663, 0.897786, 0.898683, 0.900973, 0.903786, 0.90626, 0.907494, 0.90794, 0.908481, 0.908987, 0.909533, 0.910143, 0.910718, 0.911306, 0.959105, 0.944177, 0.930633, 0.919439, 0.91154, 0.907847, 0.907013, 0.906834, 0.907014, 0.907234, 0.907175, 0.906462, 0.905242, 0.904002, 0.903178, 0.903221, 0.90881, 0.921352, 0.936443, 0.949655, 0.956479, 0.958569, 0.960449, 0.962051, 0.963354, 0.964297, 0.964779, 0.964767, 0.662368, 0.662577, 0.662282, 0.662, 0.661862, 0.661761, 0.661628, 0.661347, 0.660931, 0.660365, 0.659583, 0.658077, 0.655726, 0.653084, 0.650668, 0.648993, 0.649097, 0.651336, 0.654435, 0.65741, 0.658587, 0.65881, 0.659133, 0.659389, 0.659516, 0.659575, 0.659502, 0.659221, 2.110024, 2.077879, 2.048789, 2.023653, 2.00354, 1.989398, 1.981858, 1.97984, 1.981655, 1.985572, 1.989869, 1.995428, 2.003115, 2.011177, 2.017883, 2.021458, 2.015667, 1.999785, 1.980455, 1.964265, 1.957854, 1.959075, 1.961453, 1.965213, 1.970527, 1.977545, 1.986533, 1.997606, 1.250061, 1.255017, 1.259538, 1.263429, 1.266561, 1.268731, 1.27024, 1.271687, 1.273186, 1.275104, 1.277588, 1.281198, 1.285873, 1.291179, 1.296561, 1.301351, 1.307052, 1.314718, 1.323067, 1.330849, 1.336843, 1.341584, 1.346468, 1.351404, 1.356379, 1.361366, 1.36622, 1.370886, 0.727899, 0.738645, 0.752983, 0.769953, 0.788908, 0.80909, 0.836298, 0.873104, 0.913754, 0.952457, 0.983963, 1.011566, 1.040547, 1.067839, 1.090236, 1.10463, 1.114038, 1.123295, 1.131147, 1.136936, 1.139556, 1.140369, 1.14145, 1.142217, 1.142811, 1.143084, 1.142643, 1.141167, 1.552287, 1.545074, 1.533343, 1.526126, 1.523983, 1.520452, 1.512999, 1.506811, 1.501331, 1.491764, 1.478756, 1.472767, 1.475939, 1.481336, 1.483124, 1.478342, 1.471907, 1.467026, 1.462922, 1.458047, 1.454204, 1.456864, 1.459746, 1.458837, 1.452939, 1.447913, 1.45456, 1.466786, 1.896772, 1.847673, 1.802555, 1.763233, 1.731578, 1.709423, 1.695924, 1.686652, 1.678747, 1.669055, 1.654621, 1.621007, 1.565988, 1.505516, 1.455352, 1.431351, 1.42803, 1.428354, 1.430309, 1.432227, 1.432641, 1.431651, 1.430545, 1.429126, 1.427152, 1.424897, 1.422242, 1.419003, 1.156091, 1.156655, 1.156908, 1.157024, 1.157122, 1.15722, 1.15731, 1.157409, 1.15751, 1.157662, 1.157906, 1.158206, 1.158639, 1.159216, 1.160026, 1.161171, 1.164169, 1.169542, 1.175739, 1.181223, 1.184477, 1.186138, 1.187805, 1.189428, 1.191, 1.192458, 1.19373, 1.194757, 0.649637, 0.649854, 0.650548, 0.650806, 0.650153, 0.64935, 0.649486, 0.65059, 0.651401, 0.651049, 0.650435, 0.651037, 0.652701, 0.653767, 0.65289, 0.652206, 0.655899, 0.663273, 0.670062, 0.67468, 0.679011, 0.686234, 0.693092, 0.694211, 0.692664, 0.691946, 0.692908, 0.691763, 1.384971, 1.389914, 1.3947, 1.399155, 1.403107, 1.406426, 1.409612, 1.413026, 1.416473, 1.419735, 1.422613, 1.426093, 1.430886, 1.436552, 1.442525, 1.448219, 1.455603, 1.465978, 1.477508, 1.488376, 1.496756, 1.50314, 1.509257, 1.515052, 1.520378, 1.525196, 1.529349, 1.532773, 0.619643, 0.621047, 0.622373, 0.623614, 0.624737, 0.625704, 0.626574, 0.627417, 0.628191, 0.628831, 0.629287, 0.629582, 0.629839, 0.630143, 0.63057, 0.631189, 0.633046, 0.636511, 0.640487, 0.643913, 0.645799, 0.646547, 0.647278, 0.647948, 0.648491, 0.648873, 0.649049, 0.64897, 1.314465, 1.314364, 1.314559, 1.314916, 1.315403, 1.316027, 1.317554, 1.320339, 1.323626, 1.326683, 1.328796, 1.32934, 1.328902, 1.328495, 1.329247, 1.332072, 1.341663, 1.358762, 1.378073, 1.394363, 1.402402, 1.404515, 1.406554, 1.408374, 1.409774, 1.410564, 1.410531, 1.409489, 1.183367, 1.184234, 1.184785, 1.185106, 1.185245, 1.185194, 1.184757, 1.184063, 1.18331, 1.182759, 1.182641, 1.182856, 1.183315, 1.183981, 1.184817, 1.185829, 1.188211, 1.192317, 1.197038, 1.201211, 1.203711, 1.205083, 1.206506, 1.207898, 1.209273, 1.210566, 1.211666, 1.212566, 2.160688, 2.169006, 2.17666, 2.183355, 2.188783, 2.192437, 2.194569, 2.195954, 2.197235, 2.198905, 2.201476, 2.207012, 2.215729, 2.225935, 2.235735, 2.243484, 2.25271, 2.266258, 2.281606, 2.29586, 2.306251, 2.314594, 2.324387, 2.335267, 2.347036, 2.359245, 2.371826, 2.384385, 1.62853, 1.629333, 1.629533, 1.629347, 1.629147, 1.62906, 1.626739, 1.620975, 1.613338, 1.605346, 1.598573, 1.590109, 1.577335, 1.561974, 1.545798, 1.530541, 1.515697, 1.500536, 1.486434, 1.474662, 1.466489, 1.460475, 1.454326, 1.448234, 1.442572, 1.437582, 1.433314, 1.429939, 1.071746, 1.064561, 1.056192, 1.046837, 1.03672, 1.026092, 1.013752, 0.999185, 0.983473, 0.967727, 0.952973, 0.937151, 0.919515, 0.903034, 0.890574, 0.884831, 0.884323, 0.885359, 0.887098, 0.888783, 0.889633, 0.889901, 0.890286, 0.890799, 0.891439, 0.892222, 0.893111, 0.894195, 1.835781, 1.850918, 1.86491, 1.877198, 1.887117, 1.893764, 1.897543, 1.90008, 1.902469, 1.905621, 1.910661, 1.920361, 1.934535, 1.949899, 1.963157, 1.971036, 1.977688, 1.98779, 1.998884, 2.008557, 2.014249, 2.017483, 2.021369, 2.02574, 2.030482, 2.035273, 2.039924, 2.044346, 1.162573, 1.164669, 1.168727, 1.174235, 1.180769, 1.187652, 1.199356, 1.217821, 1.23878, 1.257797, 1.270691, 1.278205, 1.284094, 1.288625, 1.291815, 1.293694, 1.294957, 1.296047, 1.296875, 1.296957, 1.296311, 1.294469, 1.291525, 1.287392, 1.282311, 1.276458, 1.269966, 1.262905, 2.080441, 2.097476, 2.108158, 2.113811, 2.115659, 2.114897, 2.10399, 2.078846, 2.045804, 2.011272, 1.981698, 1.952747, 1.918719, 1.883933, 1.852428, 1.828176, 1.809716, 1.79294, 1.777734, 1.764024, 1.75171, 1.740142, 1.728964, 1.718295, 1.708299, 1.699258, 1.691221, 1.684373, 0.734019, 0.732617, 0.731149, 0.729624, 0.727968, 0.726144, 0.724146, 0.722116, 0.720234, 0.718527, 0.716918, 0.714718, 0.711972, 0.709433, 0.707873, 0.708451, 0.711776, 0.717358, 0.724053, 0.730138, 0.733654, 0.734531, 0.734513, 0.73456, 0.734647, 0.734206, 0.733125, 0.731734, 2.01449, 2.029062, 2.037609, 2.04127, 2.041502, 2.039545, 2.023101, 1.986891, 1.942409, 1.901132, 1.874463, 1.857539, 1.839186, 1.821129, 1.805089, 1.792783, 1.78033, 1.764712, 1.748436, 1.734348, 1.725279, 1.719628, 1.7142, 1.708826, 1.703686, 1.698824, 1.6943, 1.690183, 4.865288, 4.903786, 4.946846, 4.989495, 5.029295, 5.065327, 5.12225, 5.20821, 5.297827, 5.367187, 5.392886, 5.365827, 5.305398, 5.230734, 5.162842, 5.122568, 5.141971, 5.215338, 5.3038, 5.371662, 5.383425, 5.347994, 5.297207, 5.226821, 5.135758, 5.023229, 4.887594, 4.727182, 2.366453, 2.380149, 2.392063, 2.403584, 2.36516, 2.329398, 2.325889, 2.312733, 2.294144, 2.276445, 2.264423, 2.263972, 2.274177, 2.289996, 2.306127, 2.316616, 2.322711, 2.32852, 2.333829, 2.338632, 2.342485, 2.345502, 2.347482, 2.348511, 2.348627, 2.347621, 2.345581, 2.342694, 1.812614, 1.823273, 1.832927, 1.841478, 1.848718, 1.854513, 1.858712, 1.861887, 1.864141, 1.865785, 1.866985, 1.867715, 1.868189, 1.868701, 1.869402, 1.870696, 1.872745, 1.875575, 1.878927, 1.882419, 1.885775, 1.888845, 1.892058, 1.895361, 1.898776, 1.90237, 1.905798, 1.909311, 1.877753, 1.907958, 1.93644, 1.962661, 1.986092, 2.006157, 2.02479, 2.04399, 2.06283, 2.080079, 2.094505, 2.108508, 2.124041, 2.139143, 2.151726, 2.159671, 2.162976, 2.164076, 2.164415, 2.165248, 2.16785, 2.172762, 2.179746, 2.188605, 2.199278, 2.211495, 2.225185, 2.240254, 1.07474, 1.072119, 1.07, 1.068358, 1.067157, 1.066313, 1.066078, 1.066521, 1.067382, 1.068269, 1.068837, 1.068963, 1.068961, 1.068999, 1.069301, 1.070071, 1.074269, 1.08289, 1.093038, 1.101828, 1.106412, 1.107893, 1.10915, 1.11011, 1.110667, 1.110764, 1.11035, 1.109339, 0.941388, 0.941652, 0.942289, 0.943253, 0.944548, 0.94616, 0.9486, 0.951924, 0.95558, 0.95907, 0.961853, 0.9647, 0.968497, 0.972804, 0.976997, 0.980158, 0.983595, 0.988788, 0.994505, 0.999623, 1.002989, 1.005077, 1.007242, 1.009418, 1.011544, 1.013602, 1.015514, 1.01729, 0.640276, 0.641511, 0.642619, 0.643561, 0.644333, 0.644849, 0.645397, 0.646012, 0.646677, 0.647307, 0.647839, 0.648481, 0.649372, 0.650514, 0.651893, 0.653506, 0.656487, 0.6613, 0.666709, 0.671461, 0.674274, 0.675617, 0.676858, 0.677978, 0.6789, 0.679555, 0.679916, 0.679911, 2.007203, 2.062547, 2.117739, 2.171741, 2.223464, 2.271841, 2.320508, 2.372101, 2.423146, 2.470642, 2.510949, 2.54528, 2.578107, 2.610874, 2.64466, 2.68028, 2.772495, 2.939093, 3.126243, 3.279698, 3.345024, 3.347887, 3.349686, 3.350166, 3.348684, 3.344777, 3.337728, 3.327027, 0.89485, 0.895183, 0.895571, 0.89603, 0.89655, 0.897122, 0.897904, 0.898969, 0.900116, 0.90109, 0.901697, 0.901815, 0.901615, 0.901372, 0.901289, 0.901572, 0.903608, 0.907652, 0.912367, 0.916401, 0.91837, 0.918927, 0.919497, 0.920054, 0.920534, 0.920909, 0.9211, 0.921069, 1.946186, 1.941735, 1.936819, 1.932361, 1.927519, 1.922679, 1.913985, 1.900142, 1.886851, 1.876636, 1.87381, 1.883881, 1.903037, 1.925659, 1.94695, 1.961927, 1.974473, 1.990449, 2.006558, 2.019433, 2.025871, 2.027911, 2.029474, 2.030232, 2.029887, 2.027863, 2.02404, 2.018133, 0.809757, 0.818366, 0.826332, 0.833217, 0.83844, 0.841339, 0.843275, 0.845661, 0.848393, 0.850982, 0.852904, 0.853448, 0.852625, 0.851308, 0.850215, 0.850159, 0.851636, 0.854161, 0.857044, 0.859523, 0.860863, 0.861206, 0.861145, 0.860742, 0.859959, 0.858818, 0.857306, 0.855465, 0.899338, 0.900597, 0.901822, 0.903019, 0.904168, 0.905179, 0.906317, 0.907662, 0.908974, 0.910137, 0.911013, 0.911524, 0.91183, 0.912094, 0.912583, 0.913501, 0.915943, 0.920055, 0.924675, 0.928664, 0.930904, 0.931924, 0.932972, 0.933979, 0.934882, 0.935655, 0.936256, 0.936624, 0.478385, 0.479715, 0.480994, 0.482162, 0.483176, 0.483978, 0.485167, 0.487013, 0.488932, 0.490438, 0.491085, 0.488818, 0.483248, 0.476457, 0.470782, 0.468378, 0.468699, 0.4695, 0.470369, 0.47119, 0.471783, 0.472637, 0.474361, 0.47667, 0.479608, 0.483159, 0.487148, 0.491369, 2.306648, 2.308114, 2.306987, 2.304433, 2.301733, 2.300062, 2.290966, 2.270578, 2.246699, 2.227545, 2.221297, 2.233575, 2.25914, 2.290017, 2.318468, 2.336509, 2.35019, 2.368683, 2.388237, 2.405223, 2.416104, 2.423856, 2.433822, 2.44552, 2.458422, 2.47214, 2.486322, 2.500482, 2.055454, 2.071287, 2.083654, 2.093124, 2.100317, 2.106204, 2.104532, 2.093509, 2.079544, 2.069204, 2.068849, 2.085905, 2.11768, 2.154691, 2.187252, 2.205821, 2.211551, 2.213872, 2.214458, 2.214541, 2.215589, 2.217706, 2.220577, 2.224285, 2.228742, 2.233922, 2.239801, 2.246827, 1.114717, 1.114866, 1.114978, 1.115097, 1.115167, 1.115222, 1.115615, 1.11633, 1.117142, 1.117725, 1.11777, 1.11666, 1.114749, 1.112646, 1.111018, 1.110453, 1.112944, 1.1189, 1.126081, 1.13234, 1.135399, 1.136135, 1.136723, 1.137064, 1.13711, 1.136766, 1.136003, 1.134592, 1.527342, 1.530157, 1.533248, 1.536138, 1.538459, 1.539904, 1.54036, 1.540255, 1.540069, 1.53987, 1.539715, 1.538441, 1.535587, 1.532386, 1.529848, 1.529085, 1.531319, 1.535803, 1.541024, 1.545433, 1.547117, 1.546903, 1.546542, 1.54597, 1.545035, 1.54366, 1.541579, 1.538571, 1.658703, 1.686588, 1.707919, 1.723059, 1.732195, 1.735339, 1.725429, 1.702054, 1.672798, 1.645022, 1.62615, 1.612709, 1.598237, 1.584707, 1.574012, 1.568058, 1.576554, 1.600888, 1.630654, 1.655148, 1.663579, 1.658581, 1.649823, 1.637364, 1.621201, 1.601342, 1.577801, 1.550514, 1.372664, 1.386363, 1.399871, 1.412055, 1.421675, 1.427674, 1.436629, 1.452361, 1.469981, 1.484648, 1.49146, 1.490635, 1.486618, 1.480883, 1.474922, 1.470208, 1.44758, 1.398061, 1.338319, 1.284946, 1.254476, 1.241462, 1.229777, 1.219935, 1.212489, 1.207925, 1.206652, 1.209075, 2.024326, 2.046403, 2.065082, 2.079418, 2.088479, 2.090587, 2.085523, 2.075831, 2.06456, 2.055538, 2.05179, 2.062928, 2.089595, 2.121186, 2.147452, 2.157485, 2.146676, 2.122762, 2.093854, 2.06757, 2.051674, 2.043666, 2.036684, 2.030832, 2.026019, 2.022414, 2.020232, 2.02005, 1.581753, 1.581869, 1.581559, 1.580881, 1.579938, 1.578911, 1.577598, 1.575767, 1.573591, 1.571453, 1.569369, 1.565391, 1.55879, 1.551387, 1.54512, 1.54163, 1.542335, 1.545908, 1.550595, 1.554418, 1.555657, 1.555236, 1.554973, 1.554381, 1.553358, 1.551948, 1.5501, 1.548225, 0.859717, 0.860402, 0.861094, 0.861918, 0.86297, 0.864227, 0.866008, 0.868029, 0.869783, 0.870783, 0.870476, 0.868334, 0.864751, 0.860969, 0.858176, 0.857432, 0.862535, 0.873742, 0.887175, 0.899039, 0.905399, 0.907723, 0.909914, 0.911898, 0.913667, 0.915211, 0.916475, 0.917453, 0.965219, 0.983222, 1.001, 1.017522, 1.031901, 1.042766, 1.05422, 1.068852, 1.08354, 1.095232, 1.100657, 1.099592, 1.095352, 1.090309, 1.086668, 1.08639, 1.093815, 1.108663, 1.126197, 1.141569, 1.149861, 1.152721, 1.154939, 1.156325, 1.156518, 1.155089, 1.152061, 1.147284, 1.945141, 2.016718, 2.084061, 2.141898, 2.184786, 2.207288, 2.222538, 2.243886, 2.26619, 2.284216, 2.293182, 2.295483, 2.296415, 2.295173, 2.291289, 2.284276, 2.248001, 2.173819, 2.087297, 2.014255, 1.98054, 1.975385, 1.971114, 1.967858, 1.965836, 1.965119, 1.9657, 1.967898, 1.625635, 1.647638, 1.664909, 1.677749, 1.686248, 1.690349, 1.68487, 1.669559, 1.64971, 1.630489, 1.617103, 1.606746, 1.595069, 1.583843, 1.574827, 1.569752, 1.576105, 1.594822, 1.617853, 1.636831, 1.643255, 1.639172, 1.632174, 1.622304, 1.609546, 1.593894, 1.575362, 1.553901, 0.821985, 0.820276, 0.819173, 0.818741, 0.818897, 0.819615, 0.821655, 0.825072, 0.829022, 0.83252, 0.83473, 0.835681, 0.836221, 0.836631, 0.837303, 0.838729, 0.846888, 0.863536, 0.882636, 0.898174, 0.904203, 0.903373, 0.902213, 0.900545, 0.898279, 0.895117, 0.890794, 0.885003, 0.980074, 1.007706, 1.033143, 1.055281, 1.072961, 1.08472, 1.093025, 1.1006, 1.106791, 1.110919, 1.112231, 1.109213, 1.1022, 1.092969, 1.083058, 1.074248, 1.065066, 1.053477, 1.040652, 1.027872, 1.016419, 1.006076, 0.995942, 0.986185, 0.976719, 0.967582, 0.958813, 0.950453, 1.306583, 1.307072, 1.307107, 1.303991, 1.300789, 1.300678, 1.300666, 1.299308, 1.295981, 1.292225, 1.289007, 1.28582, 1.282188, 1.278681, 1.275745, 1.274287, 1.278384, 1.288799, 1.301398, 1.312108, 1.316798, 1.317089, 1.31719, 1.31674, 1.315695, 1.314148, 1.312215, 1.309799, 0.65074, 0.650194, 0.6495, 0.648715, 0.64795, 0.647175, 0.646184, 0.644883, 0.643432, 0.642033, 0.640799, 0.639504, 0.638009, 0.636609, 0.635609, 0.635331, 0.636389, 0.638691, 0.641441, 0.643893, 0.6452, 0.645619, 0.645974, 0.646243, 0.646408, 0.646411, 0.64622, 0.645813, 1.665205, 1.676253, 1.686619, 1.695757, 1.702899, 1.707357, 1.710913, 1.715564, 1.720459, 1.724891, 1.728013, 1.731277, 1.736119, 1.741542, 1.746651, 1.75035, 1.754267, 1.759897, 1.76562, 1.770043, 1.771608, 1.771161, 1.770513, 1.769609, 1.768336, 1.766553, 1.76417, 1.76127, 1.65359, 1.660539, 1.667519, 1.67445, 1.681118, 1.687323, 1.694707, 1.703566, 1.712563, 1.720172, 1.724804, 1.726483, 1.726632, 1.726067, 1.725597, 1.72604, 1.728144, 1.7314, 1.734957, 1.73794, 1.739542, 1.739129, 1.736934, 1.733141, 1.727892, 1.721156, 1.713141, 1.704301, 1.823355, 1.913882, 1.979952, 2.024107, 2.049173, 2.057752, 2.021313, 1.93236, 1.824678, 1.732275, 1.689706, 1.684808, 1.683102, 1.684414, 1.688376, 1.694843, 1.716299, 1.75626, 1.8017, 1.83905, 1.855075, 1.850604, 1.835134, 1.808595, 1.770598, 1.721177, 1.659861, 1.586588, 1.392477, 1.411172, 1.427524, 1.440538, 1.449243, 1.452597, 1.451969, 1.449761, 1.446592, 1.443233, 1.440519, 1.438858, 1.437574, 1.436158, 1.433958, 1.430229, 1.42292, 1.41197, 1.40029, 1.390568, 1.385584, 1.383849, 1.382011, 1.38039, 1.3792, 1.378581, 1.378729, 1.37969, 0.582754, 0.580222, 0.578076, 0.576469, 0.575569, 0.575566, 0.576349, 0.577547, 0.578972, 0.580384, 0.58156, 0.582692, 0.584116, 0.585824, 0.587811, 0.590014, 0.594554, 0.602134, 0.610526, 0.617513, 0.620842, 0.621578, 0.622114, 0.622457, 0.622553, 0.622425, 0.622098, 0.621551, 1.7282, 1.735633, 1.742807, 1.749375, 1.75539, 1.759891, 1.763827, 1.768144, 1.772572, 1.77717, 1.781252, 1.790528, 1.808243, 1.830151, 1.852182, 1.869976, 1.886897, 1.907392, 1.929191, 1.949686, 1.966291, 1.980695, 1.996229, 2.012763, 2.029987, 2.047974, 2.066616, 2.085573, 2.163685, 2.187453, 2.205264, 2.217029, 2.224521, 2.228519, 2.225771, 2.214946, 2.201161, 2.189412, 2.183956, 2.185132, 2.188517, 2.193805, 2.200653, 2.208154, 2.219586, 2.235203, 2.250811, 2.262337, 2.265389, 2.261661, 2.255182, 2.246006, 2.233952, 2.218595, 2.199223, 2.175247, 1.491326, 1.494831, 1.498041, 1.500771, 1.503208, 1.50518, 1.506693, 1.507831, 1.508654, 1.509339, 1.510095, 1.511214, 1.512612, 1.514251, 1.515767, 1.517257, 1.519933, 1.524189, 1.529267, 1.533859, 1.536811, 1.53867, 1.540585, 1.542611, 1.544713, 1.546778, 1.548703, 1.550497, 0.816724, 0.830684, 0.84454, 0.858151, 0.871374, 0.884023, 0.898256, 0.914241, 0.928917, 0.939163, 0.941828, 0.935998, 0.924777, 0.91115, 0.898112, 0.888716, 0.881982, 0.875481, 0.870122, 0.86686, 0.866558, 0.868795, 0.87242, 0.877508, 0.884054, 0.892095, 0.901656, 0.912775, 0.780128, 0.780835, 0.781489, 0.782041, 0.782446, 0.782673, 0.78264, 0.782321, 0.781837, 0.781205, 0.780825, 0.780853, 0.780933, 0.781206, 0.781772, 0.782771, 0.786256, 0.792981, 0.800977, 0.808282, 0.812987, 0.815572, 0.817857, 0.819777, 0.82133, 0.822557, 0.823439, 0.823885, 0.948929, 0.950475, 0.952021, 0.953516, 0.954986, 0.956322, 0.95798, 0.960155, 0.962344, 0.964098, 0.964922, 0.964611, 0.963685, 0.962489, 0.961501, 0.961055, 0.96179, 0.963754, 0.966104, 0.968086, 0.968807, 0.96858, 0.96833, 0.968012, 0.967534, 0.966935, 0.966218, 0.9653, 1.048625, 1.049793, 1.051335, 1.053084, 1.054916, 1.056622, 1.059058, 1.062716, 1.066909, 1.070964, 1.07423, 1.076806, 1.079409, 1.082085, 1.084963, 1.088151, 1.09359, 1.101812, 1.110921, 1.118877, 1.123802, 1.126622, 1.12927, 1.131653, 1.133653, 1.135172, 1.136137, 1.136432, 1.605973, 1.577353, 1.553557, 1.53551, 1.524089, 1.520269, 1.524007, 1.533172, 1.545431, 1.558382, 1.569753, 1.581855, 1.597734, 1.615584, 1.633606, 1.650006, 1.667993, 1.689327, 1.709994, 1.726114, 1.733777, 1.735504, 1.736457, 1.736268, 1.734628, 1.731302, 1.725929, 1.718141, 2.410733, 2.416815, 2.427242, 2.440961, 2.45696, 2.474222, 2.50539, 2.555202, 2.610862, 2.659426, 2.687961, 2.695607, 2.693334, 2.686148, 2.678965, 2.67673, 2.680199, 2.685715, 2.691742, 2.696587, 2.698627, 2.698248, 2.696908, 2.694604, 2.691313, 2.687042, 2.681842, 2.675569, 0.624168, 0.625549, 0.626908, 0.628163, 0.629252, 0.630132, 0.630995, 0.632005, 0.633015, 0.633915, 0.634531, 0.634849, 0.635002, 0.635148, 0.63539, 0.635861, 0.637875, 0.641788, 0.64633, 0.650174, 0.652035, 0.652421, 0.652763, 0.653002, 0.653095, 0.652983, 0.652629, 0.65195, 0.753007, 0.749979, 0.747099, 0.744493, 0.742416, 0.740999, 0.740146, 0.73923, 0.738237, 0.737101, 0.735791, 0.734686, 0.734192, 0.734452, 0.735617, 0.737853, 0.742741, 0.750485, 0.759104, 0.76655, 0.770705, 0.772363, 0.77384, 0.775118, 0.776235, 0.77714, 0.777758, 0.778079, 2.348821, 2.379246, 2.410109, 2.440607, 2.469876, 2.497426, 2.526548, 2.560901, 2.596268, 2.628513, 2.653555, 2.670167, 2.683479, 2.695473, 2.708463, 2.724895, 2.750951, 2.787052, 2.824629, 2.855134, 2.869888, 2.864038, 2.840319, 2.799165, 2.741358, 2.667951, 2.579723, 2.47785, 1.261745, 1.269178, 1.275821, 1.28162, 1.286575, 1.290654, 1.293993, 1.296681, 1.29864, 1.299878, 1.300279, 1.300016, 1.29936, 1.298568, 1.297889, 1.297461, 1.295824, 1.292234, 1.288257, 1.285336, 1.284896, 1.286243, 1.287679, 1.28916, 1.290691, 1.292387, 1.294163, 1.295986, 5.01917, 5.080043, 5.135332, 5.183603, 5.223568, 5.253499, 5.276104, 5.293704, 5.303666, 5.303688, 5.291401, 5.249041, 5.17397, 5.086198, 5.00611, 4.953873, 4.938663, 4.947065, 4.966454, 4.984624, 4.988823, 4.977232, 4.955689, 4.923653, 4.880967, 4.826954, 4.762349, 4.686883, 0.75956, 0.763579, 0.76701, 0.769888, 0.772132, 0.773615, 0.773936, 0.773156, 0.771789, 0.770277, 0.768946, 0.767478, 0.765597, 0.763644, 0.761808, 0.760163, 0.75826, 0.761583, 0.765193, 0.76949, 0.768782, 0.76795, 0.766893, 0.765388, 0.763282, 0.760746, 0.758189, 0.755908, 1.411711, 1.438431, 1.463424, 1.48611, 1.506031, 1.522711, 1.537237, 1.55169, 1.566621, 1.58265, 1.600301, 1.621381, 1.646296, 1.67351, 1.701301, 1.727773, 1.761617, 1.806324, 1.852339, 1.889701, 1.908482, 1.913856, 1.917394, 1.918905, 1.918018, 1.914363, 1.907524, 1.897052, 2.173751, 2.139292, 2.107931, 2.080669, 2.058632, 2.042931, 2.033987, 2.03059, 2.031176, 2.034175, 2.038026, 2.043577, 2.05148, 2.059815, 2.066706, 2.070251, 2.063498, 2.045624, 2.023935, 2.005749, 1.998437, 1.999569, 2.001951, 2.005814, 2.011345, 2.018738, 2.028263, 2.040087, 2.028313, 2.049379, 2.068574, 2.085365, 2.099318, 2.109959, 2.119028, 2.128489, 2.13793, 2.146777, 2.154801, 2.164634, 2.177528, 2.19081, 2.201721, 2.207636, 2.209743, 2.211092, 2.212074, 2.212884, 2.213892, 2.215357, 2.217306, 2.219666, 2.222418, 2.22539, 2.228715, 2.232576, 1.026206, 1.015847, 1.006629, 0.999537, 0.99568, 0.996069, 0.999393, 1.003141, 1.006921, 1.010229, 1.012618, 1.014303, 1.01567, 1.01694, 1.01834, 1.020212, 1.032685, 1.059836, 1.092824, 1.122794, 1.140926, 1.149932, 1.15865, 1.167108, 1.175064, 1.182338, 1.188669, 1.193835, 2.292711, 2.333212, 2.366647, 2.392071, 2.408583, 2.414334, 2.408979, 2.394409, 2.375189, 2.355886, 2.340398, 2.327326, 2.311335, 2.292501, 2.270934, 2.246256, 2.207984, 2.152756, 2.092888, 2.040843, 2.008758, 1.99048, 1.971242, 1.951835, 1.933014, 1.915468, 1.900334, 1.888153, 1.173308, 1.174143, 1.175207, 1.176228, 1.177046, 1.177544, 1.178132, 1.179432, 1.180889, 1.182053, 1.182458, 1.182079, 1.181631, 1.181112, 1.180761, 1.180721, 1.182857, 1.187903, 1.194076, 1.199788, 1.203404, 1.205468, 1.207519, 1.209467, 1.21118, 1.212548, 1.213489, 1.213941, 1.363675, 1.363885, 1.363774, 1.363347, 1.362727, 1.362036, 1.360321, 1.357323, 1.353671, 1.349972, 1.347007, 1.342251, 1.33429, 1.325491, 1.318307, 1.315288, 1.320283, 1.332553, 1.347515, 1.360575, 1.36702, 1.368464, 1.369731, 1.37072, 1.371305, 1.3715, 1.371151, 1.370216, 1.500754, 1.505008, 1.509042, 1.512758, 1.515986, 1.518523, 1.520877, 1.523472, 1.526313, 1.529365, 1.532477, 1.536203, 1.540911, 1.546416, 1.552511, 1.558684, 1.576124, 1.60935, 1.648056, 1.682082, 1.701023, 1.708863, 1.716126, 1.722689, 1.728448, 1.733233, 1.736929, 1.739466, 1.199863, 1.20473, 1.214151, 1.227244, 1.243333, 1.261737, 1.288329, 1.325699, 1.36808, 1.409836, 1.445339, 1.477338, 1.510403, 1.541963, 1.569145, 1.588979, 1.603575, 1.616499, 1.62808, 1.637943, 1.645533, 1.651917, 1.657262, 1.662273, 1.666927, 1.670958, 1.674253, 1.676438, 1.340411, 1.346856, 1.352993, 1.35826, 1.362564, 1.365798, 1.369079, 1.373168, 1.377275, 1.380864, 1.383446, 1.381589, 1.375221, 1.36754, 1.361735, 1.361468, 1.370816, 1.38803, 1.407298, 1.422725, 1.428934, 1.427224, 1.423862, 1.418129, 1.409572, 1.39793, 1.384357, 1.363893, 0.95028, 0.943597, 0.937657, 0.932877, 0.929705, 0.928563, 0.92903, 0.930132, 0.931488, 0.932706, 0.933394, 0.933354, 0.932867, 0.932283, 0.931926, 0.932122, 0.935531, 0.942865, 0.951593, 0.959189, 0.963109, 0.964354, 0.965512, 0.966526, 0.967383, 0.968057, 0.968472, 0.968598, 1.438494, 1.444019, 1.449593, 1.454155, 1.457587, 1.459594, 1.464267, 1.473627, 1.484032, 1.492134, 1.494452, 1.490313, 1.482697, 1.473949, 1.466238, 1.461434, 1.458861, 1.455841, 1.452283, 1.448085, 1.443476, 1.438439, 1.432944, 1.426957, 1.420393, 1.413051, 1.405176, 1.396497, 0.62935, 0.629738, 0.630092, 0.630387, 0.6306, 0.630705, 0.630664, 0.630501, 0.630263, 0.629998, 0.629744, 0.629316, 0.628624, 0.627932, 0.627472, 0.6275, 0.628636, 0.630894, 0.633496, 0.635702, 0.636744, 0.636901, 0.63696, 0.636887, 0.636639, 0.636171, 0.635438, 0.634413, 1.63067, 1.638489, 1.645266, 1.650719, 1.65463, 1.656722, 1.657008, 1.65591, 1.653995, 1.651878, 1.650075, 1.647025, 1.641735, 1.635746, 1.630709, 1.628159, 1.627975, 1.628455, 1.629307, 1.630197, 1.630783, 1.631204, 1.631641, 1.632154, 1.632627, 1.632897, 1.633095, 1.633243, 1.447595, 1.45059, 1.453971, 1.457658, 1.461564, 1.465559, 1.47071, 1.477031, 1.483105, 1.487476, 1.488815, 1.487509, 1.485264, 1.482823, 1.480891, 1.480095, 1.483598, 1.492068, 1.502307, 1.511053, 1.514951, 1.515236, 1.515493, 1.515641, 1.51547, 1.514751, 1.513269, 1.510943]\n"
     ]
    }
   ],
   "source": [
    "print(alc_use_arr)"
   ]
  },
  {
   "cell_type": "code",
   "execution_count": 36,
   "id": "946aa6ee",
   "metadata": {},
   "outputs": [],
   "source": [
    "box_plot_data = {\"Schizophrenia\":schitz_arr,\"Bipolar disorder\":bipol_arr,\"Eating disorders\":eat_dis_arr,\"Anxiety disorders\":anx_arr,\"Drug use disorders\":drug_use_arr, \"Depression\":depr_arr,\"Alcohol use disorders\":alc_use_arr}"
   ]
  },
  {
   "cell_type": "code",
   "execution_count": 37,
   "id": "bff665cd",
   "metadata": {},
   "outputs": [],
   "source": [
    "box_plot_df = pd.DataFrame.from_dict(box_plot_data)"
   ]
  },
  {
   "cell_type": "code",
   "execution_count": 49,
   "id": "746d79c8",
   "metadata": {},
   "outputs": [
    {
     "data": {
      "text/plain": [
       "'Alcohol use disorders'"
      ]
     },
     "execution_count": 49,
     "metadata": {},
     "output_type": "execute_result"
    }
   ],
   "source": [
    "box_plot_df.columns[6]"
   ]
  },
  {
   "cell_type": "code",
   "execution_count": 51,
   "id": "fe79f4b0",
   "metadata": {},
   "outputs": [
    {
     "data": {
      "image/png": "[encoded data removed]",
      "text/plain": [
       "<Figure size 640x480 with 1 Axes>"
      ]
     },
     "metadata": {},
     "output_type": "display_data"
    },
    {
     "data": {
      "image/png": "[encoded data removed]",
      "text/plain": [
       "<Figure size 640x480 with 1 Axes>"
      ]
     },
     "metadata": {},
     "output_type": "display_data"
    },
    {
     "data": {
      "image/png": "[encoded data removed]",
      "text/plain": [
       "<Figure size 640x480 with 1 Axes>"
      ]
     },
     "metadata": {},
     "output_type": "display_data"
    },
    {
     "data": {
      "image/png": "[encoded data removed]",
      "text/plain": [
       "<Figure size 640x480 with 1 Axes>"
      ]
     },
     "metadata": {},
     "output_type": "display_data"
    },
    {
     "data": {
      "image/png": "[encoded data removed]",
      "text/plain": [
       "<Figure size 640x480 with 1 Axes>"
      ]
     },
     "metadata": {},
     "output_type": "display_data"
    },
    {
     "data": {
      "image/png": "[encoded data removed]",
      "text/plain": [
       "<Figure size 640x480 with 1 Axes>"
      ]
     },
     "metadata": {},
     "output_type": "display_data"
    },
    {
     "data": {
      "image/png": "[encoded data removed]",
      "text/plain": [
       "<Figure size 640x480 with 1 Axes>"
      ]
     },
     "metadata": {},
     "output_type": "display_data"
    }
   ],
   "source": [
    "# Create separate boxplots for each group\n",
    "for group in box_plot_df.columns:\n",
    "    plt.figure()  # Create a new figure for each boxplot\n",
    "    box_plot_df[group].plot(kind='box')\n",
    "    plt.title(f'Boxplot of {group}')\n",
    "    plt.xlabel('Values')\n",
    "    plt.ylabel('Group')\n",
    "    plt.grid(True)\n",
    "\n",
    "# Show the plot\n",
    "plt.show()"
   ]
  },
  {
   "cell_type": "markdown",
   "id": "ffcf48b1",
   "metadata": {},
   "source": [
    "Left Entity column alone because this column contains countries and regions and I cant find an appropriate library to use to clean this data and this would be a lot to do on my own."
   ]
  },
  {
   "cell_type": "markdown",
   "id": "8193c902",
   "metadata": {},
   "source": [
    "Creating and Exporting Dataframes for visualizations"
   ]
  },
  {
   "cell_type": "markdown",
   "id": "fbcb759d",
   "metadata": {},
   "source": [
    "Going to export four data frames all focused on Canada because the questions I want to answer are about Canada\n",
    "1) All mental disorders in Canada \n",
    "2) eating disorders in Canada \n",
    "3) anxiety in Canada \n",
    "4) depression in Canada"
   ]
  },
  {
   "cell_type": "code",
   "execution_count": 154,
   "id": "13d6a544",
   "metadata": {},
   "outputs": [],
   "source": [
    "can_all_disorders = df[df[\"Entity\"] == \"Canada\"] \n",
    "can_all_disorders.set_index(\"Year\", inplace=True)"
   ]
  },
  {
   "cell_type": "code",
   "execution_count": 156,
   "id": "0c842de3",
   "metadata": {},
   "outputs": [],
   "source": [
    "can_eat = can_all_disorders[[\"Entity\",\"Eating disorders (%)\"]]\n",
    "can_anx = can_all_disorders[[\"Entity\",\"Anxiety disorders (%)\"]]\n",
    "can_dep = can_all_disorders[[\"Entity\",\"Depression (%)\"]]"
   ]
  },
  {
   "cell_type": "code",
   "execution_count": 160,
   "id": "908e8abc",
   "metadata": {},
   "outputs": [],
   "source": [
    "can_all_disorders.to_excel(\"can_all_disorders.xlsx\")\n",
    "can_eat.to_excel(\"can_eat.xlsx\")\n",
    "can_anx.to_excel(\"can_anx.xlsx\")\n",
    "can_dep.to_excel(\"can_dep.xlsx\")"
   ]
  },
  {
   "cell_type": "markdown",
   "id": "3b7ddde0",
   "metadata": {},
   "source": [
    "Final note. I know I could have just created a Canada dataframe from the start and this would reduce the amount of cleaning I need to do for the data set. But I wanted to show the extent of my skills so I could be considered for this position. "
   ]
  },
  {
   "cell_type": "code",
   "execution_count": null,
   "id": "52c44493",
   "metadata": {},
   "outputs": [],
   "source": []
  }
 ],
 "metadata": {
  "kernelspec": {
   "display_name": "Python 3 (ipykernel)",
   "language": "python",
   "name": "python3"
  },
  "language_info": {
   "codemirror_mode": {
    "name": "ipython",
    "version": 3
   },
   "file_extension": ".py",
   "mimetype": "text/x-python",
   "name": "python",
   "nbconvert_exporter": "python",
   "pygments_lexer": "ipython3",
   "version": "3.11.3"
  }
 },
 "nbformat": 4,
 "nbformat_minor": 5
}
